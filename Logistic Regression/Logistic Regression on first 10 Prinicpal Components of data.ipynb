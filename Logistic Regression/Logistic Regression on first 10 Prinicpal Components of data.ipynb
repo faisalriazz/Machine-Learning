{
 "cells": [
  {
   "cell_type": "code",
   "execution_count": 26,
   "metadata": {
    "collapsed": false
   },
   "outputs": [
    {
     "name": "stdout",
     "output_type": "stream",
     "text": [
      "     e        0         1         2         3         4        5         6  \\\n",
      "0  1.0 -4.19290  2.517100  0.473780 -0.628430 -2.687400  0.28546  0.191070   \n",
      "1  1.0 -6.68060  2.969700  0.990980  2.466200  2.115500 -0.27363 -0.371340   \n",
      "2  1.0 -0.25967  0.423830  0.089746  0.103350 -0.210260 -0.31418  0.092722   \n",
      "3  1.0 -1.15640  0.848080 -0.259460 -0.411420 -1.437400 -0.43879  0.607720   \n",
      "4  1.0 -0.66666  0.214390  0.041861 -0.129960 -0.363050 -0.39517  0.053495   \n",
      "5  1.0 -0.17517  0.043968 -0.316620 -0.042977  0.122490 -0.28860 -0.040541   \n",
      "6  1.0 -1.34120 -1.162900 -0.029398 -0.135130  0.497580 -1.47260 -0.007152   \n",
      "7  1.0 -0.66152  0.849280  0.281970  0.030402 -0.294750 -0.43598  0.037590   \n",
      "8  1.0 -1.74920  1.705500  0.545230  0.648500 -0.044507 -0.95528 -1.418200   \n",
      "9  1.0 -1.04130  0.246810  0.140320 -0.858140  0.474890 -0.45504  0.168170   \n",
      "\n",
      "          7         8         9  10  \n",
      "0 -0.127260  0.630760 -1.673800   0  \n",
      "1 -0.212700  1.974800  1.557300   0  \n",
      "2  0.262780  0.141460  0.009772   0  \n",
      "3  0.121940  0.441890  0.005098   0  \n",
      "4  0.076691  0.398830 -0.373070   0  \n",
      "5  0.000970 -0.246240 -0.068102   0  \n",
      "6 -0.220570  0.101510  0.074106   0  \n",
      "7  0.289210  0.316870 -0.276840   0  \n",
      "8  0.743170 -0.007359 -0.074117   1  \n",
      "9 -0.232990  0.061892 -0.133630   0  \n"
     ]
    }
   ],
   "source": [
    "import pandas as pd\n",
    "import numpy as np\n",
    "import os\n",
    "import random\n",
    "import math\n",
    "os.chdir('/home/ishaan/Machine-Learning/datasets')\n",
    "dat=pd.read_csv('subject_classify.csv',header=None)\n",
    "m=dat.shape[0]\n",
    "dat['e'] = pd.Series(np.ones(m), index=dat.index)\n",
    "cols = list(dat)\n",
    "cols.insert(0, cols.pop(cols.index('e')))\n",
    "dat = dat.ix[:, cols]\n",
    "train_data=dat.ix[0:dat.shape[0]/2,:]\n",
    "test_data=dat.ix[(dat.shape[0]/2)+1:,:]\n",
    "print dat.head(10)\n"
   ]
  },
  {
   "cell_type": "code",
   "execution_count": 27,
   "metadata": {
    "collapsed": false
   },
   "outputs": [
    {
     "name": "stdout",
     "output_type": "stream",
     "text": [
      "[[ 1.38919645]\n",
      " [ 0.48889168]\n",
      " [ 0.29442776]\n",
      " [ 0.95130778]\n",
      " [ 0.22868063]\n",
      " [ 0.79660211]\n",
      " [ 0.40099446]\n",
      " [ 0.47768804]\n",
      " [ 0.0656927 ]\n",
      " [ 0.79517503]\n",
      " [ 0.78884668]]\n"
     ]
    }
   ],
   "source": [
    "#apply gradient descent to find parameters from train data\n",
    "num_iter=10\n",
    "alpha=0.001\n",
    "dat=train_data.head(1000)\n",
    "m=dat.shape[0]\n",
    "n=dat.shape[1]\n",
    "theta=np.random.rand(n-1,1)\n",
    "J=np.random.rand(num_iter,1)\n",
    "for i in range(0,num_iter):\n",
    "    #calulate sigma h(theta)-y\n",
    "    sigma=np.random.rand(m,1)\n",
    "    for j in range(0,m):\n",
    "        val=0\n",
    "        for k in range(0,n-1):\n",
    "            val=val+theta[k,0]*dat.ix[j,k]\n",
    "        sigma[j,0]=(1.0/(1.0+math.exp(-val)))-dat.ix[j,n-1]\n",
    "    for l in range(0,n-1):\n",
    "        final_val=0\n",
    "        for p in range(0,m):\n",
    "            final_val=final_val+(sigma[p,0]*dat.ix[p,l])  \n",
    "        theta[l,0]=theta[l,0]-((final_val*alpha))\n",
    "    J[i,0]=np.sum(sigma*sigma)\n",
    "\n",
    "print theta\n",
    "    \n",
    "            \n",
    "    "
   ]
  },
  {
   "cell_type": "code",
   "execution_count": 28,
   "metadata": {
    "collapsed": false
   },
   "outputs": [
    {
     "name": "stdout",
     "output_type": "stream",
     "text": [
      "         e       0        1         2       3         4        5        6  \\\n",
      "13367  1.0 -3.5131 -0.66450 -4.034700 -1.9413 -0.059257 -1.32880  0.27623   \n",
      "13368  1.0 -4.3907  0.56742 -2.751400 -2.6566 -0.076086 -1.43130 -0.69968   \n",
      "13369  1.0 -5.1244  0.29490 -4.457000 -2.6601  0.498050 -0.88954  0.10877   \n",
      "13370  1.0 -5.3142  1.49250 -1.133000 -2.4368 -4.665200 -0.19812  0.84592   \n",
      "13371  1.0 -6.2862  1.32270  0.256020 -2.2540 -5.627800  0.57826  0.90655   \n",
      "13372  1.0 -4.4626  1.68160 -0.093382 -1.7612 -4.445700  0.12084  1.34350   \n",
      "13373  1.0 -6.4889  0.38592 -1.206900 -2.8539 -5.270600 -0.50799  0.20563   \n",
      "13374  1.0 -5.8702  0.17327 -1.557000 -2.5362 -5.269700 -0.55889  0.55013   \n",
      "13375  1.0 -7.1271  1.42900 -0.991570 -2.4648 -5.046500  0.45163  1.78130   \n",
      "13376  1.0 -4.6524  1.41520 -1.355600 -1.8094 -3.914100 -0.26271  1.97970   \n",
      "\n",
      "              7        8        9  10  pr_value  prediction  \n",
      "13367 -0.674860 -0.78766  0.30621   0 -5.683357           0  \n",
      "13368 -0.921450 -0.61648 -0.18033   0 -5.477034           0  \n",
      "13369 -0.671130 -0.85348  0.26027   0 -6.302981           0  \n",
      "13370 -0.072131  0.40232  0.48617   0 -5.097496           0  \n",
      "13371 -0.449800  1.49730  0.50183   0 -3.827783           0  \n",
      "13372 -0.568300  1.22790  0.23868   0 -2.512889           0  \n",
      "13373  0.305780  0.54792  0.93464   0 -6.581290           0  \n",
      "13374  0.505590  0.31702  0.98790   0 -6.585420           0  \n",
      "13375 -0.113840  0.34257  0.75786   0 -5.306672           0  \n",
      "13376 -0.017395  0.14971  0.38200   0 -4.030421           0  \n"
     ]
    },
    {
     "name": "stderr",
     "output_type": "stream",
     "text": [
      "/home/ishaan/anaconda2/lib/python2.7/site-packages/ipykernel/__main__.py:5: SettingWithCopyWarning: \n",
      "A value is trying to be set on a copy of a slice from a DataFrame.\n",
      "Try using .loc[row_indexer,col_indexer] = value instead\n",
      "\n",
      "See the caveats in the documentation: http://pandas.pydata.org/pandas-docs/stable/indexing.html#indexing-view-versus-copy\n",
      "/home/ishaan/anaconda2/lib/python2.7/site-packages/ipykernel/__main__.py:6: SettingWithCopyWarning: \n",
      "A value is trying to be set on a copy of a slice from a DataFrame.\n",
      "Try using .loc[row_indexer,col_indexer] = value instead\n",
      "\n",
      "See the caveats in the documentation: http://pandas.pydata.org/pandas-docs/stable/indexing.html#indexing-view-versus-copy\n"
     ]
    }
   ],
   "source": [
    "test_data[\"pr_value\"]=0\n",
    "test_data[\"prediction\"]=0\n",
    "for i in range(0,n-1):\n",
    "    test_data[\"pr_value\"]=test_data[\"pr_value\"]+theta[i,0]*test_data.ix[:,i]\n",
    "test_data[test_data.pr_value>=0][\"prediction\"]=1\n",
    "test_data[test_data.pr_value<0][\"prediction\"]=0\n",
    "print test_data.head(10)"
   ]
  },
  {
   "cell_type": "code",
   "execution_count": 29,
   "metadata": {
    "collapsed": false
   },
   "outputs": [],
   "source": [
    "accuracy=(sum(test_data.ix[:,11]==test_data[\"prediction\"])/(test_data.shape[0]*1.0)*100)"
   ]
  },
  {
   "cell_type": "code",
   "execution_count": 30,
   "metadata": {
    "collapsed": false
   },
   "outputs": [
    {
     "name": "stdout",
     "output_type": "stream",
     "text": [
      "accuracy of test set is  96.5808768517 %\n"
     ]
    }
   ],
   "source": [
    "print \"accuracy of test set is \",accuracy,\"%\""
   ]
  },
  {
   "cell_type": "code",
   "execution_count": 31,
   "metadata": {
    "collapsed": false
   },
   "outputs": [
    {
     "data": {
      "image/png": "[encoded data removed]",
      "text/plain": [
       "<matplotlib.figure.Figure at 0x7fa07b717d90>"
      ]
     },
     "metadata": {},
     "output_type": "display_data"
    }
   ],
   "source": [
    "import matplotlib.pyplot as plt\n",
    "from random import *\n",
    "%matplotlib inline \n",
    "x = range(10)\n",
    "y=J\n",
    "plt.plot(x, y)\n",
    "plt.xlabel('Num Iterations')\n",
    "plt.ylabel('Minimum Cost Function for Logistic Regression')\n",
    "plt.title('Cost Function vs Num Iterations')\n",
    "plt.show()"
   ]
  },
  {
   "cell_type": "code",
   "execution_count": 32,
   "metadata": {
    "collapsed": false
   },
   "outputs": [
    {
     "name": "stdout",
     "output_type": "stream",
     "text": [
      "         e  First Principal        1         2       3         4        5  \\\n",
      "13367  1.0          -3.5131 -0.66450 -4.034700 -1.9413 -0.059257 -1.32880   \n",
      "13368  1.0          -4.3907  0.56742 -2.751400 -2.6566 -0.076086 -1.43130   \n",
      "13369  1.0          -5.1244  0.29490 -4.457000 -2.6601  0.498050 -0.88954   \n",
      "13370  1.0          -5.3142  1.49250 -1.133000 -2.4368 -4.665200 -0.19812   \n",
      "13371  1.0          -6.2862  1.32270  0.256020 -2.2540 -5.627800  0.57826   \n",
      "13372  1.0          -4.4626  1.68160 -0.093382 -1.7612 -4.445700  0.12084   \n",
      "13373  1.0          -6.4889  0.38592 -1.206900 -2.8539 -5.270600 -0.50799   \n",
      "13374  1.0          -5.8702  0.17327 -1.557000 -2.5362 -5.269700 -0.55889   \n",
      "13375  1.0          -7.1271  1.42900 -0.991570 -2.4648 -5.046500  0.45163   \n",
      "13376  1.0          -4.6524  1.41520 -1.355600 -1.8094 -3.914100 -0.26271   \n",
      "\n",
      "             6         7        8        9  actual_value  pr_value  prediction  \n",
      "13367  0.27623 -0.674860 -0.78766  0.30621             0 -5.683357           0  \n",
      "13368 -0.69968 -0.921450 -0.61648 -0.18033             0 -5.477034           0  \n",
      "13369  0.10877 -0.671130 -0.85348  0.26027             0 -6.302981           0  \n",
      "13370  0.84592 -0.072131  0.40232  0.48617             0 -5.097496           0  \n",
      "13371  0.90655 -0.449800  1.49730  0.50183             0 -3.827783           0  \n",
      "13372  1.34350 -0.568300  1.22790  0.23868             0 -2.512889           0  \n",
      "13373  0.20563  0.305780  0.54792  0.93464             0 -6.581290           0  \n",
      "13374  0.55013  0.505590  0.31702  0.98790             0 -6.585420           0  \n",
      "13375  1.78130 -0.113840  0.34257  0.75786             0 -5.306672           0  \n",
      "13376  1.97970 -0.017395  0.14971  0.38200             0 -4.030421           0  \n"
     ]
    }
   ],
   "source": [
    "test_data.rename(columns={0 : 'First Principal',10 : 'actual_value'},inplace=True)\n",
    "print test_data.head(10)"
   ]
  },
  {
   "cell_type": "code",
   "execution_count": 33,
   "metadata": {
    "collapsed": false
   },
   "outputs": [
    {
     "data": {
      "image/png": "[encoded data removed]",
      "text/plain": [
       "<matplotlib.figure.Figure at 0x7fa07b791910>"
      ]
     },
     "metadata": {},
     "output_type": "display_data"
    }
   ],
   "source": [
    "fig, ax = plt.subplots()\n",
    "\n",
    "colors = {0:'red', 1:'blue'}\n",
    "\n",
    "grouped = test_data.groupby('actual_value')\n",
    "for key, group in grouped:\n",
    "    group.plot(ax=ax, kind='scatter', x='First Principal', y='actual_value', label=key, color=colors[key])\n",
    "\n",
    "plt.show()"
   ]
  },
  {
   "cell_type": "code",
   "execution_count": 25,
   "metadata": {
    "collapsed": false
   },
   "outputs": [
    {
     "data": {
      "image/png": "[encoded data removed]",
      "text/plain": [
       "<matplotlib.figure.Figure at 0x7fa07bfac790>"
      ]
     },
     "metadata": {},
     "output_type": "display_data"
    }
   ],
   "source": [
    "fig, ax = plt.subplots()\n",
    "colors = {0:'red', 1:'blue'}\n",
    "grouped = test_data.groupby('prediction')\n",
    "for key, group in grouped:\n",
    "    group.plot(ax=ax, kind='scatter', x='First Principal', y='prediction', label=key, color=colors[key])\n",
    "\n",
    "plt.show()"
   ]
  },
  {
   "cell_type": "code",
   "execution_count": null,
   "metadata": {
    "collapsed": true
   },
   "outputs": [],
   "source": []
  }
 ],
 "metadata": {
  "kernelspec": {
   "display_name": "Python [Root]",
   "language": "python",
   "name": "Python [Root]"
  },
  "language_info": {
   "codemirror_mode": {
    "name": "ipython",
    "version": 2
   },
   "file_extension": ".py",
   "mimetype": "text/x-python",
   "name": "python",
   "nbconvert_exporter": "python",
   "pygments_lexer": "ipython2",
   "version": "2.7.12"
  }
 },
 "nbformat": 4,
 "nbformat_minor": 0
}
