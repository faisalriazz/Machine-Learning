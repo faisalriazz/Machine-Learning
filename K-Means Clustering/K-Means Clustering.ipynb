{
 "cells": [
  {
   "cell_type": "code",
   "execution_count": 1,
   "metadata": {
    "collapsed": false
   },
   "outputs": [
    {
     "name": "stdout",
     "output_type": "stream",
     "text": [
      "         xs        ys\n",
      "0  0.051008  0.160862\n",
      "1 -0.748074  0.089040\n",
      "2 -0.772934  0.263172\n",
      "3  0.218374  0.127061\n",
      "4  0.372683  0.496562\n",
      "5 -0.629315  0.632022\n",
      "6 -0.433072  0.144792\n",
      "7 -0.841520 -0.191313\n",
      "8  0.475256  0.224837\n",
      "9  0.320830  0.327213\n"
     ]
    }
   ],
   "source": [
    "import pandas as pd\n",
    "import numpy as np\n",
    "import os\n",
    "import random\n",
    "df=pd.read_csv('/home/ishaan/Machine-Learning/datasets/synth.tr.csv')\n",
    "del df['Unnamed: 0']\n",
    "target_variable=df.ix[:,2]\n",
    "df=df.ix[:,0:2]\n",
    "print df.head(10)\n"
   ]
  },
  {
   "cell_type": "code",
   "execution_count": 2,
   "metadata": {
    "collapsed": false
   },
   "outputs": [
    {
     "name": "stdout",
     "output_type": "stream",
     "text": [
      "{33: 1, 126: 0}\n"
     ]
    }
   ],
   "source": [
    "#k=2 binary classification\n",
    "num_clusters=2\n",
    "cluster_list=random.sample(range(1, df.shape[0]), num_clusters)\n",
    "dic={}\n",
    "for i in range(0,len(cluster_list)):\n",
    "    dic[cluster_list[i]]=i\n",
    "print dic\n"
   ]
  },
  {
   "cell_type": "code",
   "execution_count": 3,
   "metadata": {
    "collapsed": true
   },
   "outputs": [],
   "source": [
    "centroids=pd.DataFrame(np.random.randn(len(dic), df.shape[1]))"
   ]
  },
  {
   "cell_type": "code",
   "execution_count": 4,
   "metadata": {
    "collapsed": false
   },
   "outputs": [],
   "source": [
    "for i in range(len(dic)):\n",
    "    for j in range(df.shape[1]):\n",
    "        centroids.loc[i,j]=df.iloc[dic.keys()[i]][j]"
   ]
  },
  {
   "cell_type": "code",
   "execution_count": 7,
   "metadata": {
    "collapsed": false
   },
   "outputs": [],
   "source": [
    "import math\n",
    "num_iter=10\n",
    "df[\"clusters\"]=0\n",
    "m=df.shape[1]\n",
    "for i in range(num_iter):\n",
    "    for j in range(df.shape[0]):\n",
    "        euclidian_distance=random.sample(range(0, num_clusters), num_clusters)\n",
    "        for k in range(0,centroids.shape[0]):\n",
    "            dt=0\n",
    "            for l in range(0,centroids.shape[1]):\n",
    "                dt=dt+(df.iloc[j][l]-centroids.iloc[k][l])*(df.iloc[j][l]-centroids.iloc[k][l])\n",
    "            euclidian_distance[k]=math.sqrt(dt)\n",
    "        df.loc[j,m-1]=euclidian_distance.index(min(euclidian_distance))\n",
    "    #recalculate centroids\n",
    "    for p in range(0,centroids.shape[0]):\n",
    "        for q in range(0,centroids.shape[1]):\n",
    "            centroids.loc[p,q]\n",
    "            su=0\n",
    "            cnt=0\n",
    "            for r in range(0,df.shape[0]):\n",
    "                if(df.iloc[r][m-1]==p):\n",
    "                    su=su+df.iloc[r][q]\n",
    "                    cnt=cnt+1\n",
    "            centroids.loc[p,q]=(su*1.0)/cnt\n",
    "            \n",
    "                \n",
    "            \n",
    "                \n",
    "            \n",
    "    "
   ]
  },
  {
   "cell_type": "code",
   "execution_count": 8,
   "metadata": {
    "collapsed": false
   },
   "outputs": [
    {
     "name": "stdout",
     "output_type": "stream",
     "text": [
      "         xs        ys  clusters    2\n",
      "0  0.051008  0.160862         0  1.0\n",
      "1 -0.748074  0.089040         0  0.0\n",
      "2 -0.772934  0.263172         0  0.0\n",
      "3  0.218374  0.127061         0  1.0\n",
      "4  0.372683  0.496562         0  1.0\n",
      "5 -0.629315  0.632022         0  0.0\n",
      "6 -0.433072  0.144792         0  0.0\n",
      "7 -0.841520 -0.191313         0  0.0\n",
      "8  0.475256  0.224837         0  1.0\n",
      "9  0.320830  0.327213         0  1.0\n"
     ]
    }
   ],
   "source": [
    "print df.head(10)"
   ]
  },
  {
   "cell_type": "code",
   "execution_count": 9,
   "metadata": {
    "collapsed": false
   },
   "outputs": [],
   "source": [
    "del df['clusters']\n",
    "df.columns=['xs','ys','clusters']"
   ]
  },
  {
   "cell_type": "code",
   "execution_count": 17,
   "metadata": {
    "collapsed": false
   },
   "outputs": [
    {
     "data": {
      "image/png": "[encoded data removed]",
      "text/plain": [
       "<matplotlib.figure.Figure at 0x7fb0f8d13210>"
      ]
     },
     "metadata": {},
     "output_type": "display_data"
    }
   ],
   "source": [
    "import matplotlib.pyplot as plt\n",
    "from random import *\n",
    "%matplotlib inline\n",
    "fig, ax = plt.subplots()\n",
    "colors = {0:'red', 1:'blue'}\n",
    "grouped = df.groupby('clusters')\n",
    "for key, group in grouped:\n",
    "    group.plot(ax=ax, kind='scatter', x='xs', y='ys', label=key, color=colors[key])\n",
    "plt.plot([-0.1,-0.1,-0.1,-0.1,-0.1,-0.1,-0.1], [1.5,1.2,1,0.8,0.6,-0.2,-0.4])\n",
    "plt.show()"
   ]
  },
  {
   "cell_type": "code",
   "execution_count": 13,
   "metadata": {
    "collapsed": false
   },
   "outputs": [
    {
     "name": "stdout",
     "output_type": "stream",
     "text": [
      "0      0\n",
      "1      0\n",
      "2      0\n",
      "3      0\n",
      "4      0\n",
      "5      0\n",
      "6      0\n",
      "7      0\n",
      "8      0\n",
      "9      0\n",
      "10     0\n",
      "11     0\n",
      "12     0\n",
      "13     0\n",
      "14     0\n",
      "15     0\n",
      "16     0\n",
      "17     0\n",
      "18     0\n",
      "19     0\n",
      "20     0\n",
      "21     0\n",
      "22     0\n",
      "23     0\n",
      "24     0\n",
      "25     0\n",
      "26     0\n",
      "27     0\n",
      "28     0\n",
      "29     0\n",
      "      ..\n",
      "220    1\n",
      "221    1\n",
      "222    1\n",
      "223    1\n",
      "224    1\n",
      "225    1\n",
      "226    1\n",
      "227    1\n",
      "228    1\n",
      "229    1\n",
      "230    1\n",
      "231    1\n",
      "232    1\n",
      "233    1\n",
      "234    1\n",
      "235    1\n",
      "236    1\n",
      "237    1\n",
      "238    1\n",
      "239    1\n",
      "240    1\n",
      "241    1\n",
      "242    1\n",
      "243    1\n",
      "244    1\n",
      "245    1\n",
      "246    1\n",
      "247    1\n",
      "248    1\n",
      "249    1\n",
      "Name: yc, dtype: int64\n"
     ]
    }
   ],
   "source": [
    "print \"similar points are clustered together,seems like a nice decision boundary\"\n"
   ]
  },
  {
   "cell_type": "code",
   "execution_count": 14,
   "metadata": {
    "collapsed": false
   },
   "outputs": [
    {
     "name": "stdout",
     "output_type": "stream",
     "text": [
      "<type 'numpy.ndarray'>\n"
     ]
    }
   ],
   "source": [
    "X_plot = np.linspace(0,1,100)\n",
    "print type(X_plot)"
   ]
  },
  {
   "cell_type": "code",
   "execution_count": null,
   "metadata": {
    "collapsed": true
   },
   "outputs": [],
   "source": []
  }
 ],
 "metadata": {
  "kernelspec": {
   "display_name": "Python [Root]",
   "language": "python",
   "name": "Python [Root]"
  },
  "language_info": {
   "codemirror_mode": {
    "name": "ipython",
    "version": 2
   },
   "file_extension": ".py",
   "mimetype": "text/x-python",
   "name": "python",
   "nbconvert_exporter": "python",
   "pygments_lexer": "ipython2",
   "version": "2.7.12"
  }
 },
 "nbformat": 4,
 "nbformat_minor": 0
}
