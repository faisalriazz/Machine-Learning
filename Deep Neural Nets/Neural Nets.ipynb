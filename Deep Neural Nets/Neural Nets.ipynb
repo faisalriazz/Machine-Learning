{
 "cells": [
  {
   "cell_type": "code",
   "execution_count": 71,
   "metadata": {
    "collapsed": false
   },
   "outputs": [
    {
     "name": "stdout",
     "output_type": "stream",
     "text": [
      "   bias        xs        ys  yc\n",
      "0   1.0  0.203923  0.916415   1\n",
      "1   1.0  0.320830  0.327213   0\n",
      "2   1.0 -0.252046  0.673583   1\n",
      "3   1.0  0.318845  0.845177   1\n",
      "4   1.0 -0.356577  0.637097   1\n",
      "5   1.0  0.438970  0.628172   1\n",
      "6   1.0 -0.531727  0.619343   1\n",
      "7   1.0 -0.679425  0.307539   0\n",
      "8   1.0 -0.409036  0.742304   1\n",
      "9   1.0  0.388273  0.449771   1\n"
     ]
    }
   ],
   "source": [
    "import pandas as pd\n",
    "import numpy as np\n",
    "import os\n",
    "df=pd.read_csv('/home/ishaan/Machine-Learning/datasets/synth.tr.csv')\n",
    "del df['Unnamed: 0']\n",
    "#add bias term to dataset\n",
    "m=df.shape[0]\n",
    "df['bias'] = pd.Series(np.ones(m), index=df.index)\n",
    "cols = list(df)\n",
    "cols.insert(0, cols.pop(cols.index('bias')))\n",
    "df = df.ix[:, cols]\n",
    "df = df.sample(frac=1).reset_index(drop=True)\n",
    "print df.head(10)"
   ]
  },
  {
   "cell_type": "code",
   "execution_count": null,
   "metadata": {
    "collapsed": true
   },
   "outputs": [],
   "source": [
    "#forward propogation\n",
    "#2 hidden layers assumed\n",
    "#with two elements in every layer except final output layer\n",
    "#bias term will be added in every layer except final output layer\n",
    "#layer 1-2\n",
    "theta1=np.random.rand(2,3)\n",
    "x1=df.ix[:,0:3]\n",
    "a1=x1.transpose()\n",
    "z2=theta1.dot(a1)\n",
    "gz2=1.0/(1+np.exp(-1*z2))"
   ]
  },
  {
   "cell_type": "code",
   "execution_count": 72,
   "metadata": {
    "collapsed": false
   },
   "outputs": [
    {
     "name": "stdout",
     "output_type": "stream",
     "text": [
      "[[ 0.78320902  0.77370729  0.77198585  0.78743462  0.77419075  0.77900338\n",
      "   0.75610472  0.77885393  0.7823167   0.76076897  0.77798198  0.78042964\n",
      "   0.77234746  0.78644208  0.78176576  0.77866754  0.77788867  0.75840916\n",
      "   0.76351634  0.77859674  0.77472414  0.75422399  0.77798887  0.77876601\n",
      "   0.77953771  0.77693022  0.77936178  0.78473035  0.78246319  0.77323514\n",
      "   0.77308489  0.7820395   0.76532228  0.78112611  0.75644601  0.7625661\n",
      "   0.78092945  0.78472548  0.75996945  0.78737569  0.78768819  0.78899866\n",
      "   0.78204401  0.78151832  0.78033943  0.75726624  0.76926624  0.77944534\n",
      "   0.77749607  0.7706357   0.76328029  0.77501988  0.77536561  0.75579256\n",
      "   0.7728533   0.7686648   0.78794235  0.77759741  0.78160159  0.78717381\n",
      "   0.77309128  0.7789383   0.77830487  0.78821368  0.78210724  0.78845744\n",
      "   0.75628313  0.74891305  0.7835539   0.78818474  0.76490524  0.75361255\n",
      "   0.76872388  0.77508113  0.77975661  0.77302288  0.77347066  0.77668508\n",
      "   0.78252103  0.76011764  0.75739485  0.75178143  0.77239447  0.78267446\n",
      "   0.77128121  0.77305822  0.76395817  0.78213002  0.78224232  0.76046408\n",
      "   0.74541983  0.77341002  0.76384542  0.77807816  0.7600553   0.78134521\n",
      "   0.78507041  0.78242506  0.78675723  0.77354297  0.7761601   0.78753771\n",
      "   0.7723292   0.76486658  0.77443671  0.76595487  0.77747132  0.79084036\n",
      "   0.7603368   0.77699002  0.77961011  0.77501453  0.78549974  0.77562005\n",
      "   0.76500551  0.77966     0.77704472  0.78091788  0.76689105  0.78407278\n",
      "   0.78429246  0.78455816  0.76409431  0.77859211  0.77628982  0.78794787\n",
      "   0.77625629  0.78068826  0.76865446  0.76058163  0.77259243  0.77641239\n",
      "   0.77381042  0.78290712  0.78032724  0.77864871  0.77663802  0.777999\n",
      "   0.7743593   0.78006081  0.78371486  0.76189783  0.78421658  0.78622821\n",
      "   0.75983111  0.78164384  0.78123903  0.77325613  0.78360874  0.77904298\n",
      "   0.77795927  0.78900575  0.76350493  0.7861037   0.77347872  0.77973554\n",
      "   0.7797677   0.77428801  0.77546535  0.76132922  0.7787742   0.78631057\n",
      "   0.78839259  0.76920999  0.76475713  0.76934691  0.77960121  0.78168654\n",
      "   0.77527184  0.7641102   0.77584059  0.77286978  0.77658537  0.77614029\n",
      "   0.77674385  0.78968067  0.75497884  0.7806772   0.78204693  0.77047347\n",
      "   0.77815843  0.7579403   0.78496757  0.77310886  0.77384705  0.78166822\n",
      "   0.7709263   0.79307639  0.77542628  0.78328762  0.78552371  0.78738865\n",
      "   0.77798219  0.78015778  0.77579432  0.78442755  0.76432204  0.76459756\n",
      "   0.78406616  0.78142628  0.78435833  0.75754851  0.78432003  0.77318036\n",
      "   0.78166341  0.76850012  0.78090255  0.78159879  0.77784975  0.77795101\n",
      "   0.78882969  0.76499672  0.77210959  0.7640801   0.77854458  0.77106121\n",
      "   0.77730562  0.77801155  0.77962563  0.77835443  0.75586847  0.78090251\n",
      "   0.78777582  0.78851248  0.78500877  0.77543441  0.79025531  0.76538996\n",
      "   0.78124319  0.77825227  0.77946688  0.7784116   0.78568046  0.77826778\n",
      "   0.78000638  0.76182461  0.78241356  0.78055315  0.77744286  0.77458787\n",
      "   0.75037516  0.77720609  0.78003815  0.78689581  0.78445438  0.7833302\n",
      "   0.78361934  0.77933671  0.77684409  0.76932412]\n",
      " [ 0.80225925  0.79588731  0.79532956  0.80610859  0.79433622  0.80085416\n",
      "   0.77942148  0.80069175  0.80317005  0.78336001  0.79793165  0.80157201\n",
      "   0.79187837  0.8038547   0.80297199  0.80099122  0.79914236  0.78113301\n",
      "   0.78543518  0.79844355  0.79631972  0.77718123  0.79704474  0.79987313\n",
      "   0.79833992  0.7989      0.79883985  0.80448796  0.8011681   0.79349975\n",
      "   0.79667797  0.80166702  0.78645513  0.80101288  0.77929566  0.78585749\n",
      "   0.80171809  0.80532103  0.78296434  0.80563162  0.80456154  0.80693607\n",
      "   0.80123835  0.80236725  0.8004612   0.78106475  0.79054724  0.79994942\n",
      "   0.79909658  0.7946181   0.78565087  0.79479645  0.79765551  0.77956159\n",
      "   0.79654439  0.79004806  0.8066373   0.79939947  0.80036993  0.804579\n",
      "   0.79476336  0.7979074   0.79780374  0.80651204  0.80297021  0.80627196\n",
      "   0.77964756  0.77288996  0.80208046  0.80671033  0.78758903  0.77670954\n",
      "   0.78957272  0.79669437  0.80114811  0.79618006  0.79334238  0.79661852\n",
      "   0.80111555  0.78212468  0.78057014  0.77670085  0.79450118  0.8014077\n",
      "   0.79197519  0.79493491  0.78591803  0.79975458  0.80100355  0.78077954\n",
      "   0.77066088  0.79373483  0.78613128  0.79984248  0.78271622  0.79967349\n",
      "   0.80433927  0.80080788  0.80542957  0.79437527  0.79601077  0.80601474\n",
      "   0.79606003  0.78537807  0.79681248  0.78738015  0.79859891  0.80838547\n",
      "   0.78345971  0.79976771  0.79959141  0.79505888  0.8046031   0.79820874\n",
      "   0.78707876  0.79894539  0.79667611  0.80226361  0.78766735  0.8022302\n",
      "   0.80388967  0.80414991  0.78516059  0.79781397  0.79601444  0.8065735\n",
      "   0.79877171  0.80203652  0.78894013  0.78292663  0.79659605  0.79914358\n",
      "   0.79601294  0.80302291  0.79816124  0.79834313  0.79864467  0.7993229\n",
      "   0.79814552  0.80078462  0.80116796  0.78415997  0.80397833  0.80508243\n",
      "   0.78181846  0.80046502  0.8017733   0.79291156  0.80184265  0.80053792\n",
      "   0.79801566  0.8074024   0.78495902  0.80332962  0.79644982  0.79890963\n",
      "   0.80076973  0.7942884   0.7974811   0.78348893  0.8000073   0.80506144\n",
      "   0.80699089  0.79058154  0.78634291  0.79275539  0.7988669   0.80177318\n",
      "   0.79766145  0.78644344  0.79618363  0.79356268  0.79870162  0.79674021\n",
      "   0.79880738  0.80698667  0.77819984  0.80009381  0.80268253  0.7941543\n",
      "   0.79974086  0.78194993  0.80453348  0.79531233  0.79604196  0.80051405\n",
      "   0.79420642  0.8099594   0.79532139  0.80340811  0.80511037  0.80608928\n",
      "   0.79739943  0.800457    0.79865239  0.80425688  0.78499066  0.78523201\n",
      "   0.80335388  0.80236529  0.80262791  0.78117786  0.8035384   0.79610371\n",
      "   0.80260115  0.78958562  0.80234874  0.80222975  0.79834071  0.79959902\n",
      "   0.80646411  0.78953066  0.79326733  0.78654941  0.7982503   0.79263796\n",
      "   0.79896012  0.79922883  0.80095394  0.79825442  0.77834543  0.80170094\n",
      "   0.80560983  0.80715503  0.80424118  0.79796191  0.80792074  0.78622201\n",
      "   0.79950814  0.79939273  0.79990099  0.7986059   0.80544241  0.79855315\n",
      "   0.80072894  0.78470481  0.80282715  0.80129644  0.79867417  0.79655216\n",
      "   0.77485153  0.79637673  0.80118472  0.80560636  0.80383092  0.80366432\n",
      "   0.80186677  0.79846862  0.79670019  0.78989966]]\n",
      "[[ 0.82668427  0.82184401  0.82096513  0.82884035  0.82210976  0.82452083\n",
      "   0.81303387  0.82444535  0.82621116  0.81536088  0.82402515  0.82525086\n",
      "   0.82118862  0.82834793  0.82592764  0.82434569  0.82396366  0.81418507\n",
      "   0.8167381   0.82433716  0.82236266  0.81210483  0.82403841  0.82440894\n",
      "   0.8248248   0.82347151  0.82472833  0.82745013  0.82630921  0.82162727\n",
      "   0.82151516  0.82608398  0.81764877  0.82561775  0.81320832  0.81624907\n",
      "   0.82550809  0.82743837  0.8149584   0.82881489  0.82898963  0.82964743\n",
      "   0.82609104  0.82580605  0.8252164   0.81360545  0.81962206  0.82475937\n",
      "   0.82376142  0.82027975  0.81661539  0.82253164  0.82267841  0.81287406\n",
      "   0.82139755  0.81931936  0.82909932  0.82381041  0.82587121  0.82872125\n",
      "   0.82153949  0.82451958  0.82419335  0.82924229  0.82610472  0.82937217\n",
      "   0.81312192  0.80946608  0.82686532  0.82922499  0.81742351  0.8118003\n",
      "   0.81935478  0.82254242  0.82490719  0.82148877  0.82175011  0.82337009\n",
      "   0.8263398   0.81504284  0.81367607  0.810874    0.82118418  0.82641619\n",
      "   0.82063998  0.82152061  0.81695825  0.8261519   0.82619646  0.81523353\n",
      "   0.80772919  0.82171464  0.81689843  0.82405382  0.81500474  0.82574597\n",
      "   0.82762863  0.82629339  0.82849476  0.82177604  0.82310598  0.82889515\n",
      "   0.8211335   0.81742771  0.82220925  0.81796193  0.82375412  0.83059428\n",
      "   0.8151399   0.82349279  0.82484854  0.82252602  0.82784908  0.82280345\n",
      "   0.81748025  0.82488143  0.82355501  0.82549607  0.8184374   0.82713321\n",
      "   0.8272291   0.82736434  0.81703591  0.82434166  0.82317282  0.82910291\n",
      "   0.82312526  0.82537965  0.81932609  0.81527023  0.82126288  0.82320167\n",
      "   0.82189569  0.82651914  0.82523529  0.82436512  0.82332356  0.82401865\n",
      "   0.82215469  0.82506862  0.82695892  0.81592698  0.82718868  0.82822302\n",
      "   0.81490041  0.82589206  0.82566787  0.82164447  0.82689641  0.8245448\n",
      "   0.8240125   0.82964597  0.81673744  0.82817748  0.82172024  0.82492091\n",
      "   0.8249171   0.82216035  0.82273173  0.81564467  0.82441169  0.82826614\n",
      "   0.82933036  0.81959286  0.81736141  0.81963928  0.82485188  0.82589981\n",
      "   0.82263004  0.81703013  0.82293937  0.82143873  0.82329577  0.82308778\n",
      "   0.82337637  0.83000321  0.81247627  0.82539533  0.82607663  0.82020162\n",
      "   0.82409641  0.81393811  0.82757299  0.82154251  0.82191422  0.82590416\n",
      "   0.82043341  0.83174852  0.82273527  0.82671241  0.82785595  0.82881659\n",
      "   0.82403109  0.82512242  0.82288838  0.82729526  0.81715394  0.81729196\n",
      "   0.82711741  0.82575837  0.82727724  0.81374751  0.8272473   0.82157058\n",
      "   0.82587868  0.81924005  0.82548719  0.82584929  0.82395237  0.82399082\n",
      "   0.82956439  0.81744904  0.8210513   0.81701362  0.82431232  0.82051983\n",
      "   0.82366461  0.82402618  0.82484156  0.82421402  0.81292564  0.82549433\n",
      "   0.8290238   0.82939113  0.82759765  0.82271049  0.83029333  0.81768586\n",
      "   0.82569492  0.82414873  0.82477104  0.8242397   0.82793386  0.82416597\n",
      "   0.82504106  0.81588378  0.8262652   0.82531786  0.8237386   0.82228994\n",
      "   0.81018321  0.82364156  0.82505248  0.82856502  0.82731391  0.82673169\n",
      "   0.82690165  0.82471944  0.82345123  0.81965876]]\n"
     ]
    }
   ],
   "source": [
    "#layer 2-3\n",
    "bias = [1 for i in range(1,251)]\n",
    "a2=np.vstack([bias,gz2])\n",
    "theta2=np.random.rand(2,3)\n",
    "z3=theta2.dot(a2)\n",
    "gz3=1.0/(1+np.exp(-1*z3))\n",
    "print gz3\n",
    "#layer 3-4\n",
    "bias = [1 for i in range(1,251)]\n",
    "a3=np.vstack([bias,gz2])\n",
    "theta3=np.random.rand(1,3)\n",
    "z4=theta3.dot(a3)\n",
    "gz4=1.0/(1+np.exp(-1*z4))\n",
    "print gz4\n"
   ]
  },
  {
   "cell_type": "code",
   "execution_count": 73,
   "metadata": {
    "collapsed": false
   },
   "outputs": [],
   "source": [
    "#backward propogation\n",
    "#layer 3-4\n",
    "error4=np.mat(gz4[0,:]-df.ix[:,3])\n",
    "#layer 2-3\n",
    "gdashz3=a3*(1-a3)\n",
    "error3=np.multiply(theta3.transpose().dot(error4),gdashz3)\n",
    "#layer 1-2\n",
    "gdashz2=a2*(1-a2)\n",
    "error2=np.multiply(np.vstack([[0 for i in range(1,251)],theta2.dot(error3)]),gdashz2)"
   ]
  },
  {
   "cell_type": "code",
   "execution_count": 74,
   "metadata": {
    "collapsed": false
   },
   "outputs": [],
   "source": [
    "#updating thetas\n",
    "delta3 = [[0 for i in range(1,4)]]\n",
    "delta3=delta3+error4.dot(a3.transpose())\n",
    "D3=delta3/250\n",
    "delta2 = [[0 for i in range(1,4)]]\n",
    "delta2=delta2+error3.dot(a2.transpose())\n",
    "D2=delta2/250\n",
    "delta1 = [[0 for i in range(1,4)]]\n",
    "delta1=delta1+error2.dot(a1.transpose())\n",
    "D1=delta1/250"
   ]
  },
  {
   "cell_type": "code",
   "execution_count": 75,
   "metadata": {
    "collapsed": false
   },
   "outputs": [
    {
     "name": "stdout",
     "output_type": "stream",
     "text": [
      "[[ 0.00649803 -0.00151636  0.00274747]\n",
      " [ 0.00198119 -0.00039553  0.00086315]]\n",
      "[[ 0.01133149  0.00872766  0.00859201]\n",
      " [ 0.03538925  0.02770749  0.02699125]]\n"
     ]
    }
   ],
   "source": [
    "D1=D1[1:,:]\n",
    "D2=D2[1:,:]\n",
    "D3=np.asarray(D3)\n",
    "D2=np.asarray(D2)\n",
    "D1=np.asarray(D1)\n",
    "print D1\n",
    "print D2"
   ]
  },
  {
   "cell_type": "code",
   "execution_count": 76,
   "metadata": {
    "collapsed": true
   },
   "outputs": [],
   "source": [
    "for i in range(0,1000):\n",
    "        #backward propogation\n",
    "    #layer 3-4\n",
    "    error4=np.mat(gz4[0,:]-df.ix[:,3])\n",
    "    #layer 2-3\n",
    "    gdashz3=a3*(1-a3)\n",
    "    error3=np.multiply(D3.transpose().dot(error4),gdashz3)\n",
    "    #layer 1-2\n",
    "    gdashz2=a2*(1-a2)\n",
    "    error2=np.multiply(np.vstack([[0 for i in range(1,251)],D2.dot(error3)]),gdashz2)\n",
    "    #updating thetas\n",
    "    delta3 = [[0 for i in range(1,4)]]\n",
    "    delta3=delta3+error4.dot(a3.transpose())\n",
    "    D3=delta3/250\n",
    "    delta2 = [[0 for i in range(1,4)]]\n",
    "    delta2=delta2+error3.dot(a2.transpose())\n",
    "    D2=delta2/250\n",
    "    delta1 = [[0 for i in range(1,4)]]\n",
    "    delta1=delta1+error2.dot(a1.transpose())\n",
    "    D1=delta1/250\n",
    "    D1=D1[1:,:]\n",
    "    D2=D2[1:,:]\n",
    "    D3=np.asarray(D3)\n",
    "    D2=np.asarray(D2)\n",
    "    D1=np.asarray(D1)"
   ]
  },
  {
   "cell_type": "code",
   "execution_count": 77,
   "metadata": {
    "collapsed": false
   },
   "outputs": [],
   "source": [
    "#test set error\n",
    "dat=pd.read_csv('/home/ishaan/Machine-Learning/datasets/synth.te.csv')\n",
    "del dat['Unnamed: 0']\n",
    "#add bias term to dataset\n",
    "m=dat.shape[0]\n",
    "dat['bias'] = pd.Series(np.ones(m), index=dat.index)\n",
    "cols = list(dat)\n",
    "cols.insert(0, cols.pop(cols.index('bias')))\n",
    "dat = dat.ix[:, cols]\n",
    "dat = dat.sample(frac=1).reset_index(drop=True)\n",
    "dat=dat.tail(250)\n"
   ]
  },
  {
   "cell_type": "code",
   "execution_count": 66,
   "metadata": {
    "collapsed": false
   },
   "outputs": [
    {
     "name": "stdout",
     "output_type": "stream",
     "text": [
      "[[ 0.56048307  0.56048307  0.56048306  0.56048307  0.56048306  0.56048307\n",
      "   0.56048307  0.56048307  0.56048307  0.56048307  0.56048307  0.56048306\n",
      "   0.56048307  0.56048306  0.56048307  0.56048306  0.56048306  0.56048306\n",
      "   0.56048307  0.56048307  0.56048307  0.56048307  0.56048307  0.56048307\n",
      "   0.56048307  0.56048307  0.56048307  0.56048306  0.56048306  0.56048307\n",
      "   0.56048306  0.56048307  0.56048307  0.56048307  0.56048307  0.56048306\n",
      "   0.56048307  0.56048306  0.56048307  0.56048307  0.56048307  0.56048307\n",
      "   0.56048306  0.56048306  0.56048306  0.56048307  0.56048307  0.56048306\n",
      "   0.56048307  0.56048307  0.56048306  0.56048307  0.56048307  0.56048307\n",
      "   0.56048306  0.56048307  0.56048306  0.56048306  0.56048307  0.56048306\n",
      "   0.56048306  0.56048307  0.56048307  0.56048307  0.56048307  0.56048307\n",
      "   0.56048307  0.56048307  0.56048307  0.56048307  0.56048307  0.56048306\n",
      "   0.56048306  0.56048306  0.56048307  0.56048307  0.56048307  0.56048307\n",
      "   0.56048307  0.56048307  0.56048307  0.56048306  0.56048307  0.56048307\n",
      "   0.56048307  0.56048306  0.56048306  0.56048306  0.56048307  0.56048306\n",
      "   0.56048306  0.56048306  0.56048307  0.56048306  0.56048306  0.56048306\n",
      "   0.56048306  0.56048306  0.56048306  0.56048306  0.56048307  0.56048307\n",
      "   0.56048306  0.56048307  0.56048306  0.56048306  0.56048307  0.56048306\n",
      "   0.56048307  0.56048307  0.56048307  0.56048306  0.56048306  0.56048306\n",
      "   0.56048307  0.56048307  0.56048307  0.56048306  0.56048307  0.56048307\n",
      "   0.56048306  0.56048306  0.56048307  0.56048306  0.56048306  0.56048306\n",
      "   0.56048306  0.56048307  0.56048307  0.56048306  0.56048307  0.56048307\n",
      "   0.56048306  0.56048307  0.56048307  0.56048306  0.56048307  0.56048306\n",
      "   0.56048306  0.56048307  0.56048307  0.56048307  0.56048307  0.56048307\n",
      "   0.56048307  0.56048307  0.56048307  0.56048307  0.56048307  0.56048306\n",
      "   0.56048306  0.56048307  0.56048307  0.56048307  0.56048307  0.56048306\n",
      "   0.56048307  0.56048307  0.56048307  0.56048307  0.56048307  0.56048307\n",
      "   0.56048307  0.56048307  0.56048306  0.56048307  0.56048307  0.56048307\n",
      "   0.56048307  0.56048306  0.56048307  0.56048307  0.56048307  0.56048307\n",
      "   0.56048307  0.56048307  0.56048306  0.56048307  0.56048307  0.56048306\n",
      "   0.56048306  0.56048306  0.56048307  0.56048307  0.56048307  0.56048307\n",
      "   0.56048307  0.56048306  0.56048306  0.56048307  0.56048307  0.56048306\n",
      "   0.56048306  0.56048307  0.56048307  0.56048307  0.56048307  0.56048306\n",
      "   0.56048307  0.56048306  0.56048306  0.56048306  0.56048307  0.56048307\n",
      "   0.56048307  0.56048307  0.56048306  0.56048307  0.56048307  0.56048307\n",
      "   0.56048307  0.56048307  0.56048307  0.56048307  0.56048307  0.56048306\n",
      "   0.56048306  0.56048307  0.56048307  0.56048306  0.56048306  0.56048307\n",
      "   0.56048307  0.56048306  0.56048307  0.56048307  0.56048306  0.56048307\n",
      "   0.56048306  0.56048307  0.56048307  0.56048307  0.56048306  0.56048307\n",
      "   0.56048307  0.56048307  0.56048307  0.56048307  0.56048307  0.56048307\n",
      "   0.56048306  0.56048307  0.56048307  0.56048306  0.56048307  0.56048307\n",
      "   0.56048307  0.56048307  0.56048307  0.56048306]]\n"
     ]
    }
   ],
   "source": [
    "tx1=dat.ix[:,0:3]\n",
    "ta1=tx1.transpose()\n",
    "tz2=D1.dot(ta1)\n",
    "tgz2=1.0/(1+np.exp(-1*tz2))\n",
    "#layer 2-3\n",
    "tbias = [1 for i in range(1,251)]\n",
    "ta2=np.vstack([tbias,tgz2])\n",
    "tz3=D2.dot(ta2)\n",
    "tgz3=1.0/(1+np.exp(-1*tz3))\n",
    "#layer 3-4\n",
    "tbias = [1 for i in range(1,251)]\n",
    "ta3=np.vstack([tbias,tgz2])\n",
    "tz4=D3.dot(ta3)\n",
    "tgz4=1.0/(1+np.exp(-1*tz4))\n",
    "print tgz4"
   ]
  },
  {
   "cell_type": "code",
   "execution_count": 78,
   "metadata": {
    "collapsed": false
   },
   "outputs": [],
   "source": [
    "prediction=np.reshape(tgz4, (250, 1)) "
   ]
  },
  {
   "cell_type": "code",
   "execution_count": 79,
   "metadata": {
    "collapsed": false
   },
   "outputs": [
    {
     "name": "stdout",
     "output_type": "stream",
     "text": [
      "     bias        xs        ys  yc  prediction\n",
      "750   1.0  0.533326  0.591671   0    0.560483\n",
      "751   1.0 -0.537049  0.307417   0    0.560483\n",
      "752   1.0  0.480078  0.374810   0    0.560483\n",
      "753   1.0  0.549912  0.472172   1    0.560483\n",
      "754   1.0 -0.921420 -0.069844   0    0.560483\n",
      "755   1.0 -0.676334  1.064999   1    0.560483\n",
      "756   1.0 -0.762727  0.890353   1    0.560483\n",
      "757   1.0 -0.723018  0.256183   0    0.560483\n",
      "758   1.0  0.175106  0.609394   1    0.560483\n",
      "759   1.0  0.762041  0.573218   1    0.560483\n",
      "760   1.0  0.414757  0.893307   1    0.560483\n",
      "761   1.0  0.182362  0.298521   0    0.560483\n",
      "762   1.0 -0.799795  0.309431   0    0.560483\n",
      "763   1.0  0.684761  0.892746   1    0.560483\n",
      "764   1.0  0.463003  0.972726   1    0.560483\n",
      "765   1.0  0.003602  0.804353   1    0.560483\n",
      "766   1.0 -0.894120  0.157170   0    0.560483\n",
      "767   1.0  0.290939  0.858417   1    0.560483\n",
      "768   1.0  0.444428  0.747146   1    0.560483\n",
      "769   1.0 -1.011976  0.344692   0    0.560483\n",
      "770   1.0  0.454067  0.332583   0    0.560483\n",
      "771   1.0  0.203934  0.410263   1    0.560483\n",
      "772   1.0 -0.561938  0.907495   1    0.560483\n",
      "773   1.0 -0.749218  0.185149   0    0.560483\n",
      "774   1.0 -0.335837  0.392482   1    0.560483\n",
      "775   1.0 -0.246208  0.728269   1    0.560483\n",
      "776   1.0 -0.433816  0.568683   1    0.560483\n",
      "777   1.0  0.735249  0.833027   1    0.560483\n",
      "778   1.0  0.388870  0.042378   0    0.560483\n",
      "779   1.0  0.437808  0.389266   0    0.560483\n",
      "..    ...       ...       ...  ..         ...\n",
      "970   1.0  0.180415  0.914335   1    0.560483\n",
      "971   1.0 -0.272249  0.234623   1    0.560483\n",
      "972   1.0 -0.229443  0.594733   1    0.560483\n",
      "973   1.0  0.361231  0.506867   0    0.560483\n",
      "974   1.0  0.263349  0.455435   1    0.560483\n",
      "975   1.0 -0.383184  0.839384   1    0.560483\n",
      "976   1.0  0.234494  0.247006   0    0.560483\n",
      "977   1.0  0.226805  0.997357   1    0.560483\n",
      "978   1.0  0.410717  0.798925   1    0.560483\n",
      "979   1.0 -0.457949  0.704015   1    0.560483\n",
      "980   1.0  0.161322  0.950856   1    0.560483\n",
      "981   1.0 -0.441265  0.326283   1    0.560483\n",
      "982   1.0 -0.349331  0.703112   1    0.560483\n",
      "983   1.0  0.340413  0.237474   0    0.560483\n",
      "984   1.0  0.443882  0.515216   1    0.560483\n",
      "985   1.0 -0.191592  0.380899   1    0.560483\n",
      "986   1.0 -0.829380  0.487867   0    0.560483\n",
      "987   1.0  0.382357  0.485587   1    0.560483\n",
      "988   1.0 -0.272519  0.683481   1    0.560483\n",
      "989   1.0  0.541929  0.592239   1    0.560483\n",
      "990   1.0  0.280505  0.022916   0    0.560483\n",
      "991   1.0  0.581373  0.769435   1    0.560483\n",
      "992   1.0 -0.032262  0.655727   1    0.560483\n",
      "993   1.0  0.369378  0.717384   1    0.560483\n",
      "994   1.0 -0.746283  0.256243   0    0.560483\n",
      "995   1.0 -1.041376  0.328508   0    0.560483\n",
      "996   1.0 -0.126810  0.971410   1    0.560483\n",
      "997   1.0 -0.080951  0.608363   1    0.560483\n",
      "998   1.0  0.044037  0.476642   1    0.560483\n",
      "999   1.0 -0.837140  0.269172   0    0.560483\n",
      "\n",
      "[250 rows x 5 columns]\n"
     ]
    }
   ],
   "source": [
    "import scipy.sparse as sparse\n",
    "dat['prediction'] = prediction\n",
    "print dat"
   ]
  },
  {
   "cell_type": "code",
   "execution_count": 80,
   "metadata": {
    "collapsed": false
   },
   "outputs": [
    {
     "data": {
      "text/plain": [
       "54.800000000000004"
      ]
     },
     "execution_count": 80,
     "metadata": {},
     "output_type": "execute_result"
    }
   ],
   "source": [
    "((len(dat[(dat['prediction']>=0.5) & (dat['yc']==1)])+len(dat[(dat['prediction']<0.5) & (dat['yc']==0)]))/250.0)*100"
   ]
  },
  {
   "cell_type": "code",
   "execution_count": 81,
   "metadata": {
    "collapsed": false
   },
   "outputs": [
    {
     "name": "stdout",
     "output_type": "stream",
     "text": [
      "accuracy of 55% on test set.lower accuracy because regularization not done on for theta(i,j),j>1\n"
     ]
    }
   ],
   "source": [
    "print \"accuracy of 55% on test set.lower accuracy because regularization not done on for theta(i,j),j>1\""
   ]
  },
  {
   "cell_type": "code",
   "execution_count": 82,
   "metadata": {
    "collapsed": false
   },
   "outputs": [
    {
     "data": {
      "image/png": "[encoded data removed]",
      "text/plain": [
       "<matplotlib.figure.Figure at 0x7fdfbc4f02d0>"
      ]
     },
     "metadata": {},
     "output_type": "display_data"
    }
   ],
   "source": [
    "#plot test set\n",
    "import matplotlib.pyplot as plt\n",
    "from random import *\n",
    "%matplotlib inline\n",
    "fig, ax = plt.subplots()\n",
    "colors = {0:'red', 1:'blue'}\n",
    "grouped = dat.groupby('yc')\n",
    "for key, group in grouped:\n",
    "    group.plot(ax=ax, kind='scatter', x='xs', y='ys', label=key, color=colors[key])\n",
    "plt.show()"
   ]
  },
  {
   "cell_type": "code",
   "execution_count": 83,
   "metadata": {
    "collapsed": false
   },
   "outputs": [
    {
     "name": "stdout",
     "output_type": "stream",
     "text": [
      "certainly non linear decision boundary\n"
     ]
    }
   ],
   "source": [
    "print \"certainly non linear decision boundary\""
   ]
  },
  {
   "cell_type": "code",
   "execution_count": 84,
   "metadata": {
    "collapsed": false
   },
   "outputs": [
    {
     "data": {
      "image/png": "[encoded data removed]",
      "text/plain": [
       "<matplotlib.figure.Figure at 0x7fdfbc3b3410>"
      ]
     },
     "metadata": {},
     "output_type": "display_data"
    }
   ],
   "source": [
    "#plot train set\n",
    "import matplotlib.pyplot as plt\n",
    "from random import *\n",
    "%matplotlib inline\n",
    "fig, ax = plt.subplots()\n",
    "colors = {0:'red', 1:'blue'}\n",
    "grouped = df.groupby('yc')\n",
    "for key, group in grouped:\n",
    "    group.plot(ax=ax, kind='scatter', x='xs', y='ys', label=key, color=colors[key])\n",
    "plt.show()"
   ]
  }
 ],
 "metadata": {
  "kernelspec": {
   "display_name": "Python [Root]",
   "language": "python",
   "name": "Python [Root]"
  },
  "language_info": {
   "codemirror_mode": {
    "name": "ipython",
    "version": 2
   },
   "file_extension": ".py",
   "mimetype": "text/x-python",
   "name": "python",
   "nbconvert_exporter": "python",
   "pygments_lexer": "ipython2",
   "version": "2.7.12"
  }
 },
 "nbformat": 4,
 "nbformat_minor": 0
}
