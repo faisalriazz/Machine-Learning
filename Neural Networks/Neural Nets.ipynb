{
 "cells": [
  {
   "cell_type": "code",
   "execution_count": 35,
   "metadata": {
    "collapsed": false
   },
   "outputs": [
    {
     "name": "stdout",
     "output_type": "stream",
     "text": [
      "   bias        xs        ys  yc\n",
      "0   1.0 -0.121725  0.841129   1\n",
      "1   1.0  0.076348  0.562222   1\n",
      "2   1.0  0.179654  0.451754   0\n",
      "3   1.0  0.077370  0.321833   0\n",
      "4   1.0 -0.366535  0.648310   1\n",
      "5   1.0  0.383235  0.756017   1\n",
      "6   1.0 -0.252046  0.673583   1\n",
      "7   1.0  0.243215  0.514883   0\n",
      "8   1.0  0.435744  0.446898   1\n",
      "9   1.0  0.614204  0.750390   1\n"
     ]
    }
   ],
   "source": [
    "import pandas as pd\n",
    "import numpy as np\n",
    "import os\n",
    "df=pd.read_csv('/home/ishaan/Machine-Learning/datasets/synth.tr.csv')\n",
    "del df['Unnamed: 0']\n",
    "#add bias term to dataset\n",
    "m=df.shape[0]\n",
    "df['bias'] = pd.Series(np.ones(m), index=df.index)\n",
    "cols = list(df)\n",
    "cols.insert(0, cols.pop(cols.index('bias')))\n",
    "df = df.ix[:, cols]\n",
    "df = df.sample(frac=1).reset_index(drop=True)\n",
    "print df.head(10)"
   ]
  },
  {
   "cell_type": "code",
   "execution_count": 36,
   "metadata": {
    "collapsed": false
   },
   "outputs": [],
   "source": [
    "#forward propogation\n",
    "#2 hidden layers assumed\n",
    "#with two elements in every layer except final output layer\n",
    "#bias term will be added in every layer except final output layer\n",
    "#layer 1-2\n",
    "theta1=np.random.rand(2,3)\n",
    "x1=df.ix[:,0:3]\n",
    "a1=x1.transpose()\n",
    "z2=theta1.dot(a1)\n",
    "gz2=1.0/(1+np.exp(-1*z2))\n",
    "\n"
   ]
  },
  {
   "cell_type": "code",
   "execution_count": 3,
   "metadata": {
    "collapsed": false
   },
   "outputs": [
    {
     "name": "stdout",
     "output_type": "stream",
     "text": [
      "[[ 0.84065194  0.84944753  0.85242814  0.8465896   0.85054414  0.85529646\n",
      "   0.85871593  0.8615403   0.85510462  0.86558954  0.86896951  0.82871429\n",
      "   0.8268874   0.85382842  0.86322676  0.86087417  0.82923963  0.84922725\n",
      "   0.86115422  0.85154072  0.84198382  0.84359108  0.8526388   0.83958029\n",
      "   0.8636921   0.82427302  0.82587045  0.84053465  0.85702907  0.84978902\n",
      "   0.85078271  0.84684771  0.84844657  0.82377947  0.85203326  0.85533617\n",
      "   0.83595285  0.8590601   0.86046472  0.85609529  0.82449205  0.84822994\n",
      "   0.85304369  0.8460286   0.85476692  0.85159588  0.85346869  0.84374237\n",
      "   0.86111468  0.84533531  0.83502764  0.85924596  0.82812385  0.84329948\n",
      "   0.82664391  0.86544505  0.86136072  0.84905668  0.85374555  0.85539287\n",
      "   0.86546695  0.82978411  0.86300707  0.83231922  0.84618113  0.8604646\n",
      "   0.85707364  0.85453217  0.85797738  0.86703167  0.86312913  0.8475198\n",
      "   0.86824998  0.81958667  0.8356164   0.83269367  0.83256273  0.85585779\n",
      "   0.82706115  0.83154799  0.85623013  0.81918562  0.84396314  0.85258332\n",
      "   0.85363145  0.86688026  0.86308784  0.86180272  0.83186542  0.85983987\n",
      "   0.86907392  0.8197787   0.83884879  0.87424456  0.85128532  0.84484753\n",
      "   0.84906435  0.85400971  0.84303391  0.82476944  0.85607628  0.8405823\n",
      "   0.85084062  0.8596172   0.84724473  0.83501538  0.86509665  0.84912053\n",
      "   0.85476098  0.84677233  0.84658915  0.82595841  0.85072502  0.83089438\n",
      "   0.86317026  0.82899457  0.84987787  0.86166601  0.82764708  0.8558951\n",
      "   0.85765688  0.82908461  0.86208394  0.8516984   0.86147703  0.85483457\n",
      "   0.86260757  0.83997021  0.83810425  0.86083832  0.82677785  0.86859836\n",
      "   0.85366824  0.84393949  0.86998538  0.86362655  0.84364174  0.83654852\n",
      "   0.82730611  0.85891308  0.85583241  0.86261124  0.85938662  0.82190995\n",
      "   0.83648643  0.85469938  0.82893213  0.85029906  0.8278022   0.85490725\n",
      "   0.86587466  0.85604782  0.81888364  0.86088727  0.83329435  0.85243223\n",
      "   0.85874164  0.8673243   0.85860328  0.82332164  0.85403509  0.85384459\n",
      "   0.84510298  0.83876407  0.84588161  0.84470058  0.86194446  0.84162607\n",
      "   0.83034562  0.85335943  0.8632111   0.82464309  0.85253872  0.84272411\n",
      "   0.82472346  0.82650121  0.85001516  0.85016909  0.84724264  0.81590573\n",
      "   0.84351901  0.82961417  0.82465098  0.83329565  0.84167319  0.85308398\n",
      "   0.86124309  0.82331195  0.81584817  0.84874745  0.85132823  0.85976825\n",
      "   0.86384429  0.85892916  0.84048572  0.83917023  0.86668891  0.83049473\n",
      "   0.84638174  0.84604875  0.84664645  0.83449966  0.82631496  0.86213175\n",
      "   0.86242778  0.85394496  0.83211477  0.85488682  0.85213753  0.86874438\n",
      "   0.85505997  0.85174082  0.86388191  0.82353934  0.85129314  0.85983973\n",
      "   0.81741233  0.82382155  0.86264545  0.84044103  0.85339199  0.84789154\n",
      "   0.86314748  0.84940688  0.84908516  0.82130348  0.84157887  0.84517509\n",
      "   0.86447417  0.8541495   0.8566315   0.84323469  0.85624473  0.86159617\n",
      "   0.85828671  0.84929896  0.85440604  0.85854953  0.84938562  0.86215497\n",
      "   0.84609364  0.83941089  0.86223216  0.85685926  0.85813422  0.85551876\n",
      "   0.84719585  0.84865364  0.85732933  0.8302449 ]\n",
      " [ 0.79970476  0.81092498  0.81625272  0.80820142  0.8138741   0.8190487\n",
      "   0.82316396  0.82757618  0.81916957  0.83449605  0.83894884  0.78201426\n",
      "   0.77995214  0.81911229  0.83084994  0.82828338  0.78291557  0.81140357\n",
      "   0.82753458  0.81546625  0.80157421  0.80376538  0.81504472  0.79785019\n",
      "   0.83141594  0.77533076  0.77839666  0.79987422  0.82156958  0.81080741\n",
      "   0.81367179  0.80854852  0.81113616  0.77432756  0.81493032  0.81915901\n",
      "   0.7924673   0.82530342  0.82688826  0.8206787   0.77663645  0.80948143\n",
      "   0.81659826  0.80685067  0.81816136  0.81320627  0.8173065   0.80448008\n",
      "   0.82758893  0.8068873   0.79197772  0.82475513  0.78155547  0.80379329\n",
      "   0.77930481  0.8341712   0.82829843  0.81120635  0.81724134  0.81920172\n",
      "   0.83419169  0.78431152  0.83028088  0.78773974  0.80588629  0.82715815\n",
      "   0.82191619  0.81817044  0.82297427  0.83636839  0.83140532  0.8092336\n",
      "   0.837991    0.76876587  0.79203726  0.78877019  0.7879517   0.81912303\n",
      "   0.7787942   0.78582452  0.82053765  0.76796413  0.80410031  0.81489606\n",
      "   0.81862338  0.83612996  0.83128475  0.82842273  0.7863933   0.82540516\n",
      "   0.83917001  0.76810662  0.7971478   0.84659673  0.81302119  0.80569572\n",
      "   0.81039942  0.81764943  0.80404055  0.77704713  0.82030102  0.79954002\n",
      "   0.81447182  0.82535515  0.80883139  0.79114658  0.83338525  0.81070811\n",
      "   0.81950233  0.80826783  0.80801021  0.77790569  0.81431943  0.78492364\n",
      "   0.83108953  0.78144236  0.81161469  0.82883266  0.78034041  0.82170074\n",
      "   0.82281377  0.78308588  0.82866427  0.81397306  0.82783155  0.81845278\n",
      "   0.82934676  0.79971785  0.79598774  0.82729085  0.77846939  0.83876912\n",
      "   0.81669451  0.80456408  0.84067478  0.83082497  0.80406522  0.79399995\n",
      "   0.77970197  0.82451558  0.82012264  0.82955509  0.82478664  0.7719052\n",
      "   0.79352825  0.81842174  0.78175923  0.81351465  0.78021677  0.81795549\n",
      "   0.83500557  0.8202037   0.76746633  0.82720132  0.78886823  0.81653152\n",
      "   0.82484336  0.83670733  0.82396251  0.77369771  0.81801403  0.81739203\n",
      "   0.80510864  0.79688024  0.806008    0.80604236  0.82927102  0.80143941\n",
      "   0.78410878  0.81630578  0.830736    0.77564511  0.81558632  0.80269915\n",
      "   0.77548393  0.77852703  0.81319582  0.81306202  0.80900949  0.76222002\n",
      "   0.80369988  0.78326756  0.77693997  0.78785309  0.80070308  0.81752685\n",
      "   0.82827052  0.77431456  0.76271019  0.80951583  0.81556754  0.82497585\n",
      "   0.83248809  0.82454122  0.79871703  0.79769877  0.83548959  0.78476449\n",
      "   0.80795489  0.80825796  0.80798419  0.78982529  0.77849989  0.82935046\n",
      "   0.83023265  0.81656825  0.78656148  0.81789066  0.81472254  0.83801276\n",
      "   0.81968343  0.8138175   0.8320408   0.77327355  0.81488803  0.82584615\n",
      "   0.76671731  0.77503025  0.83031266  0.79884122  0.8170494   0.8087617\n",
      "   0.8302916   0.81086552  0.81182448  0.77086498  0.80106934  0.80630986\n",
      "   0.83292506  0.81833388  0.82074232  0.80130079  0.82088339  0.82843122\n",
      "   0.82375515  0.81210742  0.81812413  0.82382186  0.81153662  0.82932137\n",
      "   0.8063993   0.79786388  0.82978883  0.82196901  0.82273792  0.8191777\n",
      "   0.8086971   0.81125473  0.82158013  0.78372989]]\n",
      "[[ 0.82616486  0.82866786  0.83311243  0.82997982  0.83260385  0.83192761\n",
      "   0.8323402   0.83515039  0.83274066  0.84071407  0.84217732  0.81738259\n",
      "   0.81748622  0.8360523   0.83840909  0.83871036  0.81803405  0.83037571\n",
      "   0.83612841  0.83365103  0.82693034  0.8277109   0.82969691  0.82475915\n",
      "   0.83848959  0.81397054  0.81664769  0.82685327  0.83318335  0.82746728\n",
      "   0.83149475  0.83009646  0.83183214  0.81302182  0.83107397  0.83208146\n",
      "   0.8220519   0.83654044  0.83647937  0.83362068  0.81627581  0.82857546\n",
      "   0.83226403  0.82835495  0.83126765  0.8281974   0.83278193  0.82894445\n",
      "   0.8363702   0.83026674  0.82334242  0.83470978  0.81787501  0.8285385\n",
      "   0.81668122  0.84032267  0.83740466  0.83037315  0.8318766   0.8320276\n",
      "   0.84031153  0.8197307   0.83763593  0.82085212  0.82571579  0.83713053\n",
      "   0.83389009  0.83193246  0.83393513  0.8412675   0.84002894  0.82989579\n",
      "   0.84183913  0.81147248  0.82195791  0.8221819   0.82069916  0.83055651\n",
      "   0.81448878  0.81857115  0.83291466  0.81073811  0.82749796  0.82949654\n",
      "   0.83543547  0.84110613  0.83985112  0.83647672  0.81902122  0.83462991\n",
      "   0.84243072  0.80955013  0.82507531  0.84628619  0.82860832  0.82882207\n",
      "   0.82847253  0.83212295  0.82979118  0.81647406  0.83277253  0.82597318\n",
      "   0.83320325  0.83512776  0.82969708  0.82151558  0.83937277  0.82904201\n",
      "   0.83446249  0.82964953  0.82954099  0.81534571  0.83315689  0.81824751\n",
      "   0.83914907  0.81539355  0.82912046  0.83785101  0.8164091   0.8365855\n",
      "   0.83443375  0.8188056   0.83627847  0.82972866  0.83594908  0.83177576\n",
      "   0.83647572  0.82796049  0.82439265  0.83641646  0.81449642  0.8427817\n",
      "   0.83079219  0.82861998  0.84358816  0.83722845  0.82826233  0.8239505\n",
      "   0.81586975  0.83505417  0.83301631  0.83697366  0.83439535  0.81245638\n",
      "   0.82305289  0.83207206  0.81625895  0.83242161  0.81573881  0.83039023\n",
      "   0.84116477  0.83261844  0.81041572  0.8360637   0.82086114  0.83375371\n",
      "   0.83631254  0.84127908  0.8345803   0.81280299  0.83291596  0.83196344\n",
      "   0.82679765  0.82469178  0.82680027  0.82999941  0.83814032  0.82755755\n",
      "   0.8178461   0.83071473  0.83817522  0.81371999  0.83124861  0.82755285\n",
      "   0.81315997  0.81533144  0.83243711  0.83171608  0.83011351  0.80651407\n",
      "   0.82775059  0.81785542  0.81653838  0.81858646  0.82576182  0.83433555\n",
      "   0.83766286  0.81417916  0.80772342  0.82726181  0.83445153  0.83378983\n",
      "   0.84067536  0.83507142  0.82435734  0.82548369  0.84006622  0.8189196\n",
      "   0.82996175  0.83153043  0.82932933  0.81988712  0.81574632  0.83781313\n",
      "   0.83912956  0.82973268  0.81875343  0.83029172  0.83030188  0.84048748\n",
      "   0.83408026  0.82924626  0.83948352  0.81131419  0.83296507  0.83569556\n",
      "   0.81247278  0.81445641  0.83872043  0.82475689  0.83238369  0.82780863\n",
      "   0.83726901  0.82863845  0.83173067  0.81171716  0.82684142  0.82936661\n",
      "   0.83998873  0.83336082  0.83229848  0.82299339  0.83369913  0.83707268\n",
      "   0.83495578  0.83181795  0.83216707  0.83439069  0.8302615   0.837678\n",
      "   0.82713962  0.82523127  0.83859681  0.83460393  0.83293202  0.83162413\n",
      "   0.82951676  0.83155769  0.83237853  0.81726244]]\n"
     ]
    }
   ],
   "source": [
    "#layer 2-3\n",
    "bias = [1 for i in range(1,251)]\n",
    "a2=np.vstack([bias,gz2])\n",
    "theta2=np.random.rand(2,3)\n",
    "z3=theta2.dot(a2)\n",
    "gz3=1.0/(1+np.exp(-1*z3))\n",
    "print gz3\n",
    "#layer 3-4\n",
    "bias = [1 for i in range(1,251)]\n",
    "a3=np.vstack([bias,gz2])\n",
    "theta3=np.random.rand(1,3)\n",
    "z4=theta3.dot(a3)\n",
    "gz4=1.0/(1+np.exp(-1*z4))\n",
    "print gz4\n"
   ]
  },
  {
   "cell_type": "code",
   "execution_count": 37,
   "metadata": {
    "collapsed": false
   },
   "outputs": [],
   "source": [
    "#backward propogation\n",
    "#layer 3-4\n",
    "error4=np.mat(gz4[0,:]-df.ix[:,3])\n",
    "#layer 2-3\n",
    "gdashz3=a3*(1-a3)\n",
    "error3=np.multiply(theta3.transpose().dot(error4),gdashz3)\n",
    "#layer 1-2\n",
    "gdashz2=a2*(1-a2)\n",
    "error2=np.multiply(np.vstack([[0 for i in range(1,251)],theta2.dot(error3)]),gdashz2)"
   ]
  },
  {
   "cell_type": "code",
   "execution_count": 38,
   "metadata": {
    "collapsed": false
   },
   "outputs": [],
   "source": [
    "#updating thetas\n",
    "delta3 = [[0 for i in range(1,4)]]\n",
    "delta3=delta3+error4.dot(a3.transpose())\n",
    "D3=delta3/250\n",
    "delta2 = [[0 for i in range(1,4)]]\n",
    "delta2=delta2+error3.dot(a2.transpose())\n",
    "D2=delta2/250\n",
    "delta1 = [[0 for i in range(1,4)]]\n",
    "delta1=delta1+error2.dot(a1.transpose())\n",
    "D1=delta1/250"
   ]
  },
  {
   "cell_type": "code",
   "execution_count": 39,
   "metadata": {
    "collapsed": false
   },
   "outputs": [
    {
     "name": "stdout",
     "output_type": "stream",
     "text": [
      "[[ 0.01078659 -0.00319658  0.00248066]\n",
      " [ 0.01552157 -0.00459542  0.00360067]]\n",
      "[[ 0.05211988  0.03477366  0.02728705]\n",
      " [ 0.01948803  0.01306431  0.01027835]]\n"
     ]
    }
   ],
   "source": [
    "D1=D1[1:,:]\n",
    "D2=D2[1:,:]\n",
    "D3=np.asarray(D3)\n",
    "D2=np.asarray(D2)\n",
    "D1=np.asarray(D1)\n",
    "print D1\n",
    "print D2"
   ]
  },
  {
   "cell_type": "code",
   "execution_count": 40,
   "metadata": {
    "collapsed": false
   },
   "outputs": [],
   "source": [
    "#test set error\n",
    "dat=pd.read_csv('/home/ishaan/Machine-Learning/datasets/synth.te.csv')\n",
    "del dat['Unnamed: 0']\n",
    "#add bias term to dataset\n",
    "m=dat.shape[0]\n",
    "dat['bias'] = pd.Series(np.ones(m), index=dat.index)\n",
    "cols = list(dat)\n",
    "cols.insert(0, cols.pop(cols.index('bias')))\n",
    "dat = dat.ix[:, cols]\n",
    "dat = dat.sample(frac=1).reset_index(drop=True)\n",
    "dat=dat.tail(250)\n"
   ]
  },
  {
   "cell_type": "code",
   "execution_count": 9,
   "metadata": {
    "collapsed": false
   },
   "outputs": [
    {
     "name": "stdout",
     "output_type": "stream",
     "text": [
      "[[ 0.62450036  0.624472    0.62435344  0.62439192  0.62444025  0.62444887\n",
      "   0.62442791  0.62438882  0.62437671  0.62442603  0.62436252  0.62443233\n",
      "   0.62435872  0.62447068  0.62435585  0.62436569  0.62438701  0.62444608\n",
      "   0.62443198  0.62448197  0.62435231  0.62445409  0.62447322  0.62436733\n",
      "   0.62434463  0.62436404  0.62444734  0.624468    0.62445502  0.62440251\n",
      "   0.62443352  0.62435682  0.62441289  0.6244441   0.6244334   0.62448862\n",
      "   0.62447058  0.62433308  0.6244217   0.62444131  0.62435271  0.62444231\n",
      "   0.62446221  0.62439508  0.62445298  0.62439031  0.62440752  0.62434289\n",
      "   0.62444625  0.62444818  0.62435211  0.62446465  0.62446803  0.62434576\n",
      "   0.62442775  0.62440162  0.62434701  0.6244773   0.62440562  0.62435017\n",
      "   0.62447068  0.62445494  0.62446975  0.6244483   0.62444284  0.62445255\n",
      "   0.62446737  0.62438175  0.62437303  0.62445895  0.6243816   0.62446989\n",
      "   0.62435666  0.6243673   0.62442841  0.62447003  0.62447126  0.62445234\n",
      "   0.62444142  0.62441624  0.62436173  0.62447793  0.62438375  0.62436071\n",
      "   0.62437183  0.62439459  0.62446869  0.62437894  0.62447188  0.62434737\n",
      "   0.62445219  0.62440493  0.62440064  0.62439923  0.62433253  0.62445356\n",
      "   0.62442752  0.62440999  0.62435785  0.62447021  0.6244564   0.62436987\n",
      "   0.62437569  0.6244078   0.62435637  0.62443066  0.62436754  0.62442916\n",
      "   0.6244556   0.62438823  0.62441007  0.62446464  0.62437513  0.62441528\n",
      "   0.62447792  0.62447154  0.62443971  0.6244293   0.624388    0.6244003\n",
      "   0.62435573  0.62447977  0.62446642  0.62439687  0.62438397  0.62444769\n",
      "   0.62433446  0.62435236  0.62434706  0.62438528  0.62444469  0.62442539\n",
      "   0.62435393  0.62440141  0.62438861  0.62437569  0.62436671  0.62442878\n",
      "   0.6244705   0.62446857  0.62446791  0.62446359  0.62437886  0.62437707\n",
      "   0.62438027  0.62442262  0.62438665  0.62445579  0.62440038  0.62445616\n",
      "   0.62447099  0.62443578  0.62442044  0.62438147  0.62446464  0.62437609\n",
      "   0.62440972  0.62439027  0.62445009  0.62444119  0.62445137  0.62442522\n",
      "   0.62444109  0.62433985  0.62446828  0.62437359  0.62447475  0.62445773\n",
      "   0.62446456  0.62439875  0.624384    0.62448065  0.62446308  0.62445565\n",
      "   0.62437028  0.62435911  0.62434963  0.62447748  0.62437677  0.62445853\n",
      "   0.62437285  0.62445685  0.62435493  0.62441399  0.62439559  0.62444062\n",
      "   0.62445204  0.62441741  0.6243592   0.62447951  0.62443035  0.62438888\n",
      "   0.62438763  0.62440171  0.62448773  0.62445889  0.62438117  0.62435601\n",
      "   0.6244685   0.62440913  0.62444375  0.62446171  0.62436817  0.62435393\n",
      "   0.62445221  0.62435677  0.62440953  0.62446296  0.6244558   0.62438205\n",
      "   0.62439365  0.62434802  0.62438715  0.62444385  0.62439289  0.62436216\n",
      "   0.62437631  0.62443214  0.6243639   0.62446561  0.62435808  0.6244543\n",
      "   0.62445371  0.62438095  0.62443815  0.62435474  0.6244173   0.62445096\n",
      "   0.62440043  0.62438492  0.62448285  0.62434114  0.62438471  0.62444291\n",
      "   0.62447095  0.62446957  0.62448325  0.6244404   0.62447323  0.62438454\n",
      "   0.62443987  0.62443581  0.624416    0.62441936  0.6243783   0.62445691\n",
      "   0.62439529  0.624431    0.6244702   0.62447595]]\n"
     ]
    }
   ],
   "source": [
    "tx1=dat.ix[:,0:3]\n",
    "ta1=tx1.transpose()\n",
    "tz2=D1.dot(ta1)\n",
    "tgz2=1.0/(1+np.exp(-1*tz2))\n",
    "#layer 2-3\n",
    "tbias = [1 for i in range(1,251)]\n",
    "ta2=np.vstack([tbias,tgz2])\n",
    "tz3=D2.dot(ta2)\n",
    "tgz3=1.0/(1+np.exp(-1*tz3))\n",
    "#layer 3-4\n",
    "tbias = [1 for i in range(1,251)]\n",
    "ta3=np.vstack([tbias,tgz2])\n",
    "tz4=D3.dot(ta3)\n",
    "tgz4=1.0/(1+np.exp(-1*tz4))\n",
    "print tgz4"
   ]
  },
  {
   "cell_type": "code",
   "execution_count": 41,
   "metadata": {
    "collapsed": false
   },
   "outputs": [],
   "source": [
    "prediction=np.reshape(tgz4, (250, 1)) "
   ]
  },
  {
   "cell_type": "code",
   "execution_count": 42,
   "metadata": {
    "collapsed": false
   },
   "outputs": [
    {
     "name": "stdout",
     "output_type": "stream",
     "text": [
      "     bias        xs        ys  yc  prediction\n",
      "750   1.0  0.317894  0.110579   0    0.624500\n",
      "751   1.0  0.618168  0.327309   0    0.624472\n",
      "752   1.0 -0.306930  0.574183   1    0.624353\n",
      "753   1.0  0.270601  0.260199   0    0.624392\n",
      "754   1.0  0.418146  0.145522   0    0.624440\n",
      "755   1.0 -0.921420 -0.069844   0    0.624449\n",
      "756   1.0  0.427675  0.962589   1    0.624428\n",
      "757   1.0 -0.060506  0.772167   1    0.624389\n",
      "758   1.0 -0.028566  0.486501   1    0.624377\n",
      "759   1.0  0.274956  0.622947   1    0.624426\n",
      "760   1.0  0.748855  0.246813   0    0.624363\n",
      "761   1.0 -0.851073  0.474956   0    0.624432\n",
      "762   1.0 -1.011976  0.344692   0    0.624359\n",
      "763   1.0 -0.650766  0.412201   0    0.624471\n",
      "764   1.0  0.204728  0.915150   1    0.624356\n",
      "765   1.0 -1.055052  0.517833   0    0.624366\n",
      "766   1.0 -0.263821  0.565778   1    0.624387\n",
      "767   1.0  0.346902  0.776639   1    0.624446\n",
      "768   1.0  0.340884  0.582415   1    0.624432\n",
      "769   1.0 -0.871901  0.191787   0    0.624482\n",
      "770   1.0 -0.325250  0.791106   1    0.624352\n",
      "771   1.0 -0.672452  0.290330   0    0.624454\n",
      "772   1.0  0.640286  0.804269   1    0.624473\n",
      "773   1.0 -0.726509  0.181867   0    0.624367\n",
      "774   1.0 -0.383184  0.839384   1    0.624345\n",
      "775   1.0  0.398790  0.149344   0    0.624364\n",
      "776   1.0  0.239375  0.462387   0    0.624447\n",
      "777   1.0 -0.938694  0.324275   0    0.624468\n",
      "778   1.0  0.089596  0.338424   0    0.624455\n",
      "779   1.0 -0.396184  0.511766   0    0.624403\n",
      "..    ...       ...       ...  ..         ...\n",
      "970   1.0  0.224987  0.464865   0    0.624358\n",
      "971   1.0  0.122196  0.784475   1    0.624454\n",
      "972   1.0  0.684761  0.892746   1    0.624454\n",
      "973   1.0  0.389662  0.697574   1    0.624381\n",
      "974   1.0  0.503660  0.451743   1    0.624438\n",
      "975   1.0 -0.767972  0.818894   1    0.624355\n",
      "976   1.0  0.234494  0.247006   0    0.624417\n",
      "977   1.0  0.304760  0.405070   1    0.624451\n",
      "978   1.0 -0.730846  0.642803   0    0.624400\n",
      "979   1.0  0.495317  0.631047   1    0.624385\n",
      "980   1.0 -0.336832  0.293615   0    0.624483\n",
      "981   1.0  0.448304  0.663333   1    0.624341\n",
      "982   1.0  0.595984  0.680517   0    0.624385\n",
      "983   1.0  0.330837  0.256040   0    0.624443\n",
      "984   1.0  0.770581  0.678277   1    0.624471\n",
      "985   1.0 -0.621276  0.167383   0    0.624470\n",
      "986   1.0  0.339954  0.500220   1    0.624483\n",
      "987   1.0 -0.547898  0.277055   0    0.624440\n",
      "988   1.0  0.603654  0.439204   1    0.624473\n",
      "989   1.0  0.109538  0.189506   0    0.624385\n",
      "990   1.0 -0.409375  0.526063   1    0.624440\n",
      "991   1.0  0.316159  0.423974   0    0.624436\n",
      "992   1.0  0.257699  0.537312   0    0.624416\n",
      "993   1.0  0.599207  0.605699   1    0.624419\n",
      "994   1.0  0.159023  0.531382   0    0.624378\n",
      "995   1.0 -0.531897  0.452619   1    0.624457\n",
      "996   1.0 -0.537631  0.827069   1    0.624395\n",
      "997   1.0  0.493758  0.376064   0    0.624431\n",
      "998   1.0 -0.673505  0.296239   0    0.624470\n",
      "999   1.0 -0.756729  0.140927   0    0.624476\n",
      "\n",
      "[250 rows x 5 columns]\n"
     ]
    }
   ],
   "source": [
    "import scipy.sparse as sparse\n",
    "dat['prediction'] = prediction\n",
    "print dat"
   ]
  },
  {
   "cell_type": "code",
   "execution_count": 43,
   "metadata": {
    "collapsed": false
   },
   "outputs": [
    {
     "data": {
      "text/plain": [
       "52.0"
      ]
     },
     "execution_count": 43,
     "metadata": {},
     "output_type": "execute_result"
    }
   ],
   "source": [
    "((len(dat[(dat['prediction']>=0.5) & (dat['yc']==1)])+len(dat[(dat['prediction']<0.5) & (dat['yc']==0)]))/250.0)*100"
   ]
  },
  {
   "cell_type": "code",
   "execution_count": 44,
   "metadata": {
    "collapsed": false
   },
   "outputs": [
    {
     "name": "stdout",
     "output_type": "stream",
     "text": [
      "accuracy of 52% on test set\n"
     ]
    }
   ],
   "source": [
    "print \"accuracy of 52% on test set\""
   ]
  },
  {
   "cell_type": "code",
   "execution_count": 45,
   "metadata": {
    "collapsed": false
   },
   "outputs": [
    {
     "data": {
      "image/png": "[encoded data removed]",
      "text/plain": [
       "<matplotlib.figure.Figure at 0x7fdfc31d2890>"
      ]
     },
     "metadata": {},
     "output_type": "display_data"
    }
   ],
   "source": [
    "#plot test set\n",
    "import matplotlib.pyplot as plt\n",
    "from random import *\n",
    "%matplotlib inline\n",
    "fig, ax = plt.subplots()\n",
    "colors = {0:'red', 1:'blue'}\n",
    "grouped = dat.groupby('yc')\n",
    "for key, group in grouped:\n",
    "    group.plot(ax=ax, kind='scatter', x='xs', y='ys', label=key, color=colors[key])\n",
    "plt.show()"
   ]
  },
  {
   "cell_type": "code",
   "execution_count": 46,
   "metadata": {
    "collapsed": false
   },
   "outputs": [
    {
     "name": "stdout",
     "output_type": "stream",
     "text": [
      "certainly non linear decision boundary\n"
     ]
    }
   ],
   "source": [
    "print \"certainly non linear decision boundary\""
   ]
  },
  {
   "cell_type": "code",
   "execution_count": 47,
   "metadata": {
    "collapsed": false
   },
   "outputs": [
    {
     "data": {
      "image/png": "[encoded data removed]",
      "text/plain": [
       "<matplotlib.figure.Figure at 0x7fdfc0f10b10>"
      ]
     },
     "metadata": {},
     "output_type": "display_data"
    }
   ],
   "source": [
    "#plot train set\n",
    "import matplotlib.pyplot as plt\n",
    "from random import *\n",
    "%matplotlib inline\n",
    "fig, ax = plt.subplots()\n",
    "colors = {0:'red', 1:'blue'}\n",
    "grouped = df.groupby('yc')\n",
    "for key, group in grouped:\n",
    "    group.plot(ax=ax, kind='scatter', x='xs', y='ys', label=key, color=colors[key])\n",
    "plt.show()"
   ]
  },
  {
   "cell_type": "code",
   "execution_count": null,
   "metadata": {
    "collapsed": true
   },
   "outputs": [],
   "source": []
  }
 ],
 "metadata": {
  "kernelspec": {
   "display_name": "Python [Root]",
   "language": "python",
   "name": "Python [Root]"
  },
  "language_info": {
   "codemirror_mode": {
    "name": "ipython",
    "version": 2
   },
   "file_extension": ".py",
   "mimetype": "text/x-python",
   "name": "python",
   "nbconvert_exporter": "python",
   "pygments_lexer": "ipython2",
   "version": "2.7.12"
  }
 },
 "nbformat": 4,
 "nbformat_minor": 0
}
