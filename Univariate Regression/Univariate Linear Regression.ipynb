{
 "cells": [
  {
   "cell_type": "code",
   "execution_count": 90,
   "metadata": {
    "collapsed": false
   },
   "outputs": [
    {
     "name": "stdout",
     "output_type": "stream",
     "text": [
      "            time  AirPassengers  prediction\n",
      "101  1957.416667            422  411.012856\n",
      "102  1957.500000            465  411.029822\n",
      "103  1957.583333            467  411.046789\n",
      "104  1957.666667            404  411.063755\n",
      "105  1957.750000            347  411.080721\n"
     ]
    },
    {
     "name": "stderr",
     "output_type": "stream",
     "text": [
      "/home/ishaan/anaconda2/lib/python2.7/site-packages/ipykernel/__main__.py:29: SettingWithCopyWarning: \n",
      "A value is trying to be set on a copy of a slice from a DataFrame.\n",
      "Try using .loc[row_indexer,col_indexer] = value instead\n",
      "\n",
      "See the caveats in the documentation: http://pandas.pydata.org/pandas-docs/stable/indexing.html#indexing-view-versus-copy\n"
     ]
    }
   ],
   "source": [
    "import os\n",
    "import pandas as pd\n",
    "import numpy as np\n",
    "import math\n",
    "import matplotlib.pyplot as plt\n",
    "%matplotlib inline \n",
    "#os.chdir('/home/ishaan/Machine-Learning/datasets')\n",
    "df = pd.read_csv('/home/ishaan/Machine-Learning/datasets/AirPassengers.csv')\n",
    "os.chdir('/home/ishaan/Machine-Learning/Univariate Regression')\n",
    "dataset=df[['time','AirPassengers']]\n",
    "#print dataset.head(5)\n",
    "#target variable AirPassengers\n",
    "#x is time\n",
    "parameters=np.ones(shape=(2,1))\n",
    "parameters[0,0]=12.5\n",
    "parameters[1,0]=12\n",
    "#learning rate\n",
    "alpha=math.pow(10,-7)\n",
    "training_set= dataset.ix[0:100:,:] \n",
    "test_set=dataset.ix[101:,:]\n",
    "#lets do for 10 iterations\n",
    "num_iterations=10\n",
    "for i in range(0,num_iterations):\n",
    "    temp0=parameters[0,0]-(alpha*(1.0/training_set.shape[0]))*sum(( training_set['time']*parameters[1,0]+parameters[0,0]-training_set['AirPassengers']))\n",
    "    temp1=parameters[1,0]-(alpha*(1.0/training_set.shape[0]))*sum(( training_set['time']*parameters[1,0]+parameters[0,0]-training_set['AirPassengers'])*training_set['time'])\n",
    "    parameters[0,0]=temp0\n",
    "    parameters[1,0]=temp1\n",
    "                        \n",
    "test_set['prediction']=test_set['time']*parameters[1,0]+parameters[0,0]\n",
    "print test_set.head(5)\n",
    "        \n"
   ]
  },
  {
   "cell_type": "code",
   "execution_count": 91,
   "metadata": {
    "collapsed": false
   },
   "outputs": [
    {
     "data": {
      "text/plain": [
       "<matplotlib.axes._subplots.AxesSubplot at 0x7f304912f7d0>"
      ]
     },
     "execution_count": 91,
     "metadata": {},
     "output_type": "execute_result"
    },
    {
     "data": {
      "image/png": "[encoded data removed]",
      "text/plain": [
       "<matplotlib.figure.Figure at 0x7f3069dead10>"
      ]
     },
     "metadata": {},
     "output_type": "display_data"
    }
   ],
   "source": [
    "#Actutal Plot\n",
    "test_set.plot(x='time', y='AirPassengers', style='o')"
   ]
  },
  {
   "cell_type": "code",
   "execution_count": 92,
   "metadata": {
    "collapsed": false
   },
   "outputs": [
    {
     "data": {
      "text/plain": [
       "<matplotlib.axes._subplots.AxesSubplot at 0x7f30490f01d0>"
      ]
     },
     "execution_count": 92,
     "metadata": {},
     "output_type": "execute_result"
    },
    {
     "data": {
      "image/png": "[encoded data removed]",
      "text/plain": [
       "<matplotlib.figure.Figure at 0x7f30490e5c90>"
      ]
     },
     "metadata": {},
     "output_type": "display_data"
    }
   ],
   "source": [
    "#Prediction\n",
    "test_set.plot(x='time', y='prediction', style='o')"
   ]
  },
  {
   "cell_type": "code",
   "execution_count": 86,
   "metadata": {
    "collapsed": false
   },
   "outputs": [
    {
     "name": "stdout",
     "output_type": "stream",
     "text": [
      "Conclusion ,Data can not fit using Linear Model but I still implemented the technqiue using\n",
      "Batch Gradient Descent for practice\n"
     ]
    }
   ],
   "source": [
    "print \"Conclusion ,Data can not fit using Linear Model but I still implemented the technqiue using\"\n",
    "print \"Batch Gradient Descent for practice\""
   ]
  }
 ],
 "metadata": {
  "kernelspec": {
   "display_name": "Python [Root]",
   "language": "python",
   "name": "Python [Root]"
  },
  "language_info": {
   "codemirror_mode": {
    "name": "ipython",
    "version": 2
   },
   "file_extension": ".py",
   "mimetype": "text/x-python",
   "name": "python",
   "nbconvert_exporter": "python",
   "pygments_lexer": "ipython2",
   "version": "2.7.12"
  }
 },
 "nbformat": 4,
 "nbformat_minor": 0
}
