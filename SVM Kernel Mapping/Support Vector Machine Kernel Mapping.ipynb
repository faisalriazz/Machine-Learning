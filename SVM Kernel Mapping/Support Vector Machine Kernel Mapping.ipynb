{
 "cells": [
  {
   "cell_type": "code",
   "execution_count": 32,
   "metadata": {
    "collapsed": false
   },
   "outputs": [
    {
     "name": "stdout",
     "output_type": "stream",
     "text": [
      "   Reaction  Days\n",
      "0  249.5600     0\n",
      "1  258.7047     1\n",
      "2  250.8006     2\n",
      "3  321.4398     3\n",
      "4  356.8519     4\n",
      "5  414.6901     5\n",
      "6  382.2038     6\n",
      "7  290.1486     7\n",
      "8  430.5853     8\n",
      "9  466.3535     9\n"
     ]
    }
   ],
   "source": [
    "import pandas as pd\n",
    "import os\n",
    "import math\n",
    "df=pd.read_csv('/home/ishaan/Machine-Learning/datasets/sleepstudy.csv')\n",
    "del df['Unnamed: 0']\n",
    "df=df.ix[:,0:2]\n",
    "print df.head(10)"
   ]
  },
  {
   "cell_type": "code",
   "execution_count": 33,
   "metadata": {
    "collapsed": false
   },
   "outputs": [],
   "source": [
    "#gaussian kernel\n",
    "m=df.shape[1]\n",
    "df_norm = (df - df.min()) / (df.max() - df.min())\n",
    "for landmark in range(0,df_norm.shape[0]):\n",
    "    df_norm[str(landmark)]=\"\"\n",
    "    for i in range(0,df_norm.shape[0]):\n",
    "        su=0\n",
    "        for j in range(0,m):\n",
    "            a=df_norm.ix[landmark,j]\n",
    "            b=df_norm.ix[i,j]\n",
    "            su=su+(a-b)*(a-b)\n",
    "        df_norm.loc[i, str(landmark)]=math.sqrt(su)\n",
    "        "
   ]
  },
  {
   "cell_type": "code",
   "execution_count": 31,
   "metadata": {
    "collapsed": false
   },
   "outputs": [
    {
     "name": "stdout",
     "output_type": "stream",
     "text": [
      "   Reaction      Days         0         1         2         3         4  \\\n",
      "0  0.203027  0.000000         0  0.116085  0.222269  0.425365  0.594224   \n",
      "1  0.236645  0.111111  0.116085         0  0.114848  0.320267  0.491216   \n",
      "2  0.207588  0.222222  0.222269  0.114848         0  0.282455   0.44875   \n",
      "3  0.467271  0.333333  0.425365  0.320267  0.282455         0  0.171152   \n",
      "4  0.597452  0.444444  0.594224  0.491216   0.44875  0.171152         0   \n",
      "5  0.810076  0.555556  0.822891  0.725502  0.688551  0.408532  0.239905   \n",
      "6  0.690650  0.666667  0.825966   0.71747  0.656414   0.40126  0.240974   \n",
      "7  0.352239  0.777778  0.791961  0.676614  0.574078   0.45909  0.413812   \n",
      "8  0.868510  0.888889    1.1104   1.00209  0.938755  0.685299  0.520579   \n",
      "9  1.000000  1.000000   1.27874   1.17168   1.11034  0.853373  0.686066   \n",
      "\n",
      "          5         6         7    ...           170        171       172  \\\n",
      "0  0.822891  0.825966  0.791961    ...     0.0729785   0.141684  0.283844   \n",
      "1  0.725502   0.71747  0.676614    ...      0.117877  0.0542946  0.181073   \n",
      "2  0.688551  0.656414  0.574078    ...      0.232516     0.1389  0.172031   \n",
      "3  0.408532   0.40126   0.45909    ...      0.384309   0.283682  0.141522   \n",
      "4  0.239905  0.240974  0.413812    ...      0.548506   0.452837  0.311181   \n",
      "5         0   0.16312  0.508918    ...      0.770631   0.683398   0.54443   \n",
      "6   0.16312         0  0.356186    ...      0.785095   0.684405  0.542468   \n",
      "7  0.508918  0.356186         0    ...      0.781505   0.669479   0.55623   \n",
      "8  0.338416  0.284634  0.528092    ...       1.06826   0.968775  0.826715   \n",
      "9  0.483324  0.454762  0.684819    ...       1.23457    1.13705  0.994892   \n",
      "\n",
      "         173       174       175       176       177       178       179  \n",
      "0   0.401891  0.465456  0.628678  0.736143  0.850581  0.991653   1.08507  \n",
      "1   0.292955  0.349376  0.515238  0.621485   0.73551  0.877362  0.969696  \n",
      "2   0.246421  0.259347  0.441636  0.540523  0.651208  0.796057  0.882321  \n",
      "3  0.0397329  0.167972  0.224242  0.336764  0.451599  0.582575  0.684884  \n",
      "4   0.203019  0.256154  0.149588  0.236951  0.337079  0.446735  0.556198  \n",
      "5     0.4424  0.481766  0.312779    0.3151  0.344113  0.373026  0.481754  \n",
      "6   0.424664  0.414041  0.223005  0.175435  0.181339  0.227351  0.339895  \n",
      "7   0.450778  0.333513  0.265376  0.197249    0.1951  0.310924  0.351194  \n",
      "8   0.709294  0.689552  0.498909  0.417372  0.339848  0.225878  0.268404  \n",
      "9   0.878725  0.861702     0.671  0.588326  0.504267  0.374243  0.375816  \n",
      "\n",
      "[10 rows x 182 columns]\n"
     ]
    }
   ],
   "source": [
    "print df_norm.head(10)"
   ]
  },
  {
   "cell_type": "code",
   "execution_count": 16,
   "metadata": {
    "collapsed": false
   },
   "outputs": [
    {
     "name": "stdout",
     "output_type": "stream",
     "text": [
      "1.42342353\n"
     ]
    }
   ],
   "source": [
    "\"Quadratic Programming Required to optimize the cost function to find the 180 paprametes\""
   ]
  },
  {
   "cell_type": "code",
   "execution_count": 23,
   "metadata": {
    "collapsed": false
   },
   "outputs": [
    {
     "name": "stdout",
     "output_type": "stream",
     "text": [
      "<type 'numpy.float64'>\n"
     ]
    }
   ],
   "source": []
  },
  {
   "cell_type": "code",
   "execution_count": 25,
   "metadata": {
    "collapsed": false
   },
   "outputs": [
    {
     "name": "stdout",
     "output_type": "stream",
     "text": [
      "-99.6666666667\n"
     ]
    }
   ],
   "source": []
  },
  {
   "cell_type": "code",
   "execution_count": null,
   "metadata": {
    "collapsed": true
   },
   "outputs": [],
   "source": []
  }
 ],
 "metadata": {
  "kernelspec": {
   "display_name": "Python [Root]",
   "language": "python",
   "name": "Python [Root]"
  },
  "language_info": {
   "codemirror_mode": {
    "name": "ipython",
    "version": 2
   },
   "file_extension": ".py",
   "mimetype": "text/x-python",
   "name": "python",
   "nbconvert_exporter": "python",
   "pygments_lexer": "ipython2",
   "version": "2.7.12"
  }
 },
 "nbformat": 4,
 "nbformat_minor": 0
}
